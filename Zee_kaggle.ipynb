{
 "cells": [
  {
   "cell_type": "code",
   "execution_count": 1,
   "metadata": {
    "ExecuteTime": {
     "end_time": "2020-04-06T14:38:43.556919Z",
     "start_time": "2020-04-06T14:38:43.553923Z"
    }
   },
   "outputs": [],
   "source": [
    "import pandas as pd\n",
    "import matplotlib.pyplot as plt"
   ]
  },
  {
   "cell_type": "code",
   "execution_count": 2,
   "metadata": {
    "ExecuteTime": {
     "end_time": "2020-04-06T14:38:44.042531Z",
     "start_time": "2020-04-06T14:38:43.992609Z"
    }
   },
   "outputs": [],
   "source": [
    "data =  pd.read_csv(\"train.csv\")\n",
    "test= pd.read_csv(\"kagtest.csv\")"
   ]
  },
  {
   "cell_type": "code",
   "execution_count": 3,
   "metadata": {
    "ExecuteTime": {
     "end_time": "2020-04-06T14:38:44.463373Z",
     "start_time": "2020-04-06T14:38:44.447384Z"
    },
    "scrolled": true
   },
   "outputs": [
    {
     "data": {
      "text/html": [
       "<div>\n",
       "<style scoped>\n",
       "    .dataframe tbody tr th:only-of-type {\n",
       "        vertical-align: middle;\n",
       "    }\n",
       "\n",
       "    .dataframe tbody tr th {\n",
       "        vertical-align: top;\n",
       "    }\n",
       "\n",
       "    .dataframe thead th {\n",
       "        text-align: right;\n",
       "    }\n",
       "</style>\n",
       "<table border=\"1\" class=\"dataframe\">\n",
       "  <thead>\n",
       "    <tr style=\"text-align: right;\">\n",
       "      <th></th>\n",
       "      <th>Id</th>\n",
       "      <th>fwd</th>\n",
       "      <th>lag_d</th>\n",
       "      <th>noc</th>\n",
       "      <th>gy</th>\n",
       "      <th>ay</th>\n",
       "      <th>noi</th>\n",
       "      <th>UMC</th>\n",
       "      <th>firm</th>\n",
       "      <th>MSA</th>\n",
       "      <th>tbm</th>\n",
       "      <th>tbru</th>\n",
       "      <th>PAG</th>\n",
       "      <th>npr</th>\n",
       "      <th>fpr</th>\n",
       "      <th>FT</th>\n",
       "      <th>FS</th>\n",
       "    </tr>\n",
       "  </thead>\n",
       "  <tbody>\n",
       "    <tr>\n",
       "      <th>0</th>\n",
       "      <td>1</td>\n",
       "      <td>15</td>\n",
       "      <td>669</td>\n",
       "      <td>21</td>\n",
       "      <td>1998</td>\n",
       "      <td>1996</td>\n",
       "      <td>2</td>\n",
       "      <td>707</td>\n",
       "      <td>280070</td>\n",
       "      <td>261</td>\n",
       "      <td>13</td>\n",
       "      <td>0.60357</td>\n",
       "      <td>5366339.923</td>\n",
       "      <td>6</td>\n",
       "      <td>0</td>\n",
       "      <td>2</td>\n",
       "      <td>225.0</td>\n",
       "    </tr>\n",
       "    <tr>\n",
       "      <th>1</th>\n",
       "      <td>2</td>\n",
       "      <td>8</td>\n",
       "      <td>301</td>\n",
       "      <td>18</td>\n",
       "      <td>1990</td>\n",
       "      <td>1989</td>\n",
       "      <td>2</td>\n",
       "      <td>348</td>\n",
       "      <td>789656</td>\n",
       "      <td>538</td>\n",
       "      <td>1</td>\n",
       "      <td>0.00000</td>\n",
       "      <td>4719510.000</td>\n",
       "      <td>1</td>\n",
       "      <td>0</td>\n",
       "      <td>2</td>\n",
       "      <td>310.0</td>\n",
       "    </tr>\n",
       "    <tr>\n",
       "      <th>2</th>\n",
       "      <td>3</td>\n",
       "      <td>75</td>\n",
       "      <td>1016</td>\n",
       "      <td>23</td>\n",
       "      <td>1997</td>\n",
       "      <td>1994</td>\n",
       "      <td>5</td>\n",
       "      <td>725</td>\n",
       "      <td>499570</td>\n",
       "      <td>13</td>\n",
       "      <td>6</td>\n",
       "      <td>0.61112</td>\n",
       "      <td>4893738.000</td>\n",
       "      <td>0</td>\n",
       "      <td>0</td>\n",
       "      <td>2</td>\n",
       "      <td>3.0</td>\n",
       "    </tr>\n",
       "    <tr>\n",
       "      <th>3</th>\n",
       "      <td>4</td>\n",
       "      <td>50</td>\n",
       "      <td>929</td>\n",
       "      <td>32</td>\n",
       "      <td>1997</td>\n",
       "      <td>1994</td>\n",
       "      <td>3</td>\n",
       "      <td>315</td>\n",
       "      <td>654319</td>\n",
       "      <td>553</td>\n",
       "      <td>4</td>\n",
       "      <td>0.37500</td>\n",
       "      <td>4817136.250</td>\n",
       "      <td>0</td>\n",
       "      <td>5</td>\n",
       "      <td>3</td>\n",
       "      <td>64.0</td>\n",
       "    </tr>\n",
       "    <tr>\n",
       "      <th>4</th>\n",
       "      <td>5</td>\n",
       "      <td>18</td>\n",
       "      <td>1233</td>\n",
       "      <td>20</td>\n",
       "      <td>1999</td>\n",
       "      <td>1996</td>\n",
       "      <td>2</td>\n",
       "      <td>710</td>\n",
       "      <td>551495</td>\n",
       "      <td>261</td>\n",
       "      <td>2</td>\n",
       "      <td>0.00000</td>\n",
       "      <td>5135114.000</td>\n",
       "      <td>0</td>\n",
       "      <td>0</td>\n",
       "      <td>2</td>\n",
       "      <td>14.0</td>\n",
       "    </tr>\n",
       "  </tbody>\n",
       "</table>\n",
       "</div>"
      ],
      "text/plain": [
       "   Id  fwd  lag_d  noc    gy    ay  noi  UMC    firm  MSA  tbm     tbru  \\\n",
       "0   1   15    669   21  1998  1996    2  707  280070  261   13  0.60357   \n",
       "1   2    8    301   18  1990  1989    2  348  789656  538    1  0.00000   \n",
       "2   3   75   1016   23  1997  1994    5  725  499570   13    6  0.61112   \n",
       "3   4   50    929   32  1997  1994    3  315  654319  553    4  0.37500   \n",
       "4   5   18   1233   20  1999  1996    2  710  551495  261    2  0.00000   \n",
       "\n",
       "           PAG  npr  fpr  FT     FS  \n",
       "0  5366339.923    6    0   2  225.0  \n",
       "1  4719510.000    1    0   2  310.0  \n",
       "2  4893738.000    0    0   2    3.0  \n",
       "3  4817136.250    0    5   3   64.0  \n",
       "4  5135114.000    0    0   2   14.0  "
      ]
     },
     "execution_count": 3,
     "metadata": {},
     "output_type": "execute_result"
    }
   ],
   "source": [
    "pd.set_option('display.max_columns', 999)\n",
    "data.head()"
   ]
  },
  {
   "cell_type": "code",
   "execution_count": 4,
   "metadata": {
    "ExecuteTime": {
     "end_time": "2020-04-06T14:38:44.896178Z",
     "start_time": "2020-04-06T14:38:44.883210Z"
    }
   },
   "outputs": [
    {
     "data": {
      "text/html": [
       "<div>\n",
       "<style scoped>\n",
       "    .dataframe tbody tr th:only-of-type {\n",
       "        vertical-align: middle;\n",
       "    }\n",
       "\n",
       "    .dataframe tbody tr th {\n",
       "        vertical-align: top;\n",
       "    }\n",
       "\n",
       "    .dataframe thead th {\n",
       "        text-align: right;\n",
       "    }\n",
       "</style>\n",
       "<table border=\"1\" class=\"dataframe\">\n",
       "  <thead>\n",
       "    <tr style=\"text-align: right;\">\n",
       "      <th></th>\n",
       "      <th>Id</th>\n",
       "      <th>lag_d</th>\n",
       "      <th>noc</th>\n",
       "      <th>gy</th>\n",
       "      <th>ay</th>\n",
       "      <th>noi</th>\n",
       "      <th>UMC</th>\n",
       "      <th>firm</th>\n",
       "      <th>MSA</th>\n",
       "      <th>tbm</th>\n",
       "      <th>tbru</th>\n",
       "      <th>PAG</th>\n",
       "      <th>npr</th>\n",
       "      <th>fpr</th>\n",
       "      <th>FT</th>\n",
       "      <th>FS</th>\n",
       "    </tr>\n",
       "  </thead>\n",
       "  <tbody>\n",
       "    <tr>\n",
       "      <th>0</th>\n",
       "      <td>10001</td>\n",
       "      <td>895</td>\n",
       "      <td>9</td>\n",
       "      <td>1993</td>\n",
       "      <td>1991</td>\n",
       "      <td>2</td>\n",
       "      <td>340</td>\n",
       "      <td>441575</td>\n",
       "      <td>553</td>\n",
       "      <td>6</td>\n",
       "      <td>0.77781</td>\n",
       "      <td>4527382.167</td>\n",
       "      <td>0</td>\n",
       "      <td>0</td>\n",
       "      <td>3</td>\n",
       "      <td>2.0</td>\n",
       "    </tr>\n",
       "    <tr>\n",
       "      <th>1</th>\n",
       "      <td>10002</td>\n",
       "      <td>1187</td>\n",
       "      <td>17</td>\n",
       "      <td>2001</td>\n",
       "      <td>1997</td>\n",
       "      <td>1</td>\n",
       "      <td>714</td>\n",
       "      <td>280070</td>\n",
       "      <td>213</td>\n",
       "      <td>12</td>\n",
       "      <td>0.72224</td>\n",
       "      <td>5558154.000</td>\n",
       "      <td>0</td>\n",
       "      <td>0</td>\n",
       "      <td>2</td>\n",
       "      <td>240.0</td>\n",
       "    </tr>\n",
       "    <tr>\n",
       "      <th>2</th>\n",
       "      <td>10003</td>\n",
       "      <td>837</td>\n",
       "      <td>46</td>\n",
       "      <td>1997</td>\n",
       "      <td>1995</td>\n",
       "      <td>4</td>\n",
       "      <td>370</td>\n",
       "      <td>795471</td>\n",
       "      <td>302</td>\n",
       "      <td>22</td>\n",
       "      <td>0.65705</td>\n",
       "      <td>4921162.000</td>\n",
       "      <td>1</td>\n",
       "      <td>0</td>\n",
       "      <td>2</td>\n",
       "      <td>72.0</td>\n",
       "    </tr>\n",
       "    <tr>\n",
       "      <th>3</th>\n",
       "      <td>10004</td>\n",
       "      <td>1110</td>\n",
       "      <td>25</td>\n",
       "      <td>2000</td>\n",
       "      <td>1997</td>\n",
       "      <td>1</td>\n",
       "      <td>709</td>\n",
       "      <td>864032</td>\n",
       "      <td>206</td>\n",
       "      <td>4</td>\n",
       "      <td>0.62500</td>\n",
       "      <td>5670063.500</td>\n",
       "      <td>0</td>\n",
       "      <td>0</td>\n",
       "      <td>2</td>\n",
       "      <td>113.0</td>\n",
       "    </tr>\n",
       "    <tr>\n",
       "      <th>4</th>\n",
       "      <td>10005</td>\n",
       "      <td>858</td>\n",
       "      <td>2</td>\n",
       "      <td>1982</td>\n",
       "      <td>1979</td>\n",
       "      <td>3</td>\n",
       "      <td>715</td>\n",
       "      <td>280070</td>\n",
       "      <td>302</td>\n",
       "      <td>4</td>\n",
       "      <td>0.37500</td>\n",
       "      <td>4027948.000</td>\n",
       "      <td>0</td>\n",
       "      <td>0</td>\n",
       "      <td>2</td>\n",
       "      <td>325.0</td>\n",
       "    </tr>\n",
       "  </tbody>\n",
       "</table>\n",
       "</div>"
      ],
      "text/plain": [
       "      Id  lag_d  noc    gy    ay  noi  UMC    firm  MSA  tbm     tbru  \\\n",
       "0  10001    895    9  1993  1991    2  340  441575  553    6  0.77781   \n",
       "1  10002   1187   17  2001  1997    1  714  280070  213   12  0.72224   \n",
       "2  10003    837   46  1997  1995    4  370  795471  302   22  0.65705   \n",
       "3  10004   1110   25  2000  1997    1  709  864032  206    4  0.62500   \n",
       "4  10005    858    2  1982  1979    3  715  280070  302    4  0.37500   \n",
       "\n",
       "           PAG  npr  fpr  FT     FS  \n",
       "0  4527382.167    0    0   3    2.0  \n",
       "1  5558154.000    0    0   2  240.0  \n",
       "2  4921162.000    1    0   2   72.0  \n",
       "3  5670063.500    0    0   2  113.0  \n",
       "4  4027948.000    0    0   2  325.0  "
      ]
     },
     "execution_count": 4,
     "metadata": {},
     "output_type": "execute_result"
    }
   ],
   "source": [
    "test.head()"
   ]
  },
  {
   "cell_type": "code",
   "execution_count": 5,
   "metadata": {
    "ExecuteTime": {
     "end_time": "2020-04-06T14:38:45.334093Z",
     "start_time": "2020-04-06T14:38:45.329110Z"
    }
   },
   "outputs": [
    {
     "data": {
      "text/plain": [
       "(10000, 17)"
      ]
     },
     "execution_count": 5,
     "metadata": {},
     "output_type": "execute_result"
    }
   ],
   "source": [
    "data.shape"
   ]
  },
  {
   "cell_type": "code",
   "execution_count": 6,
   "metadata": {
    "ExecuteTime": {
     "end_time": "2020-04-06T14:38:45.789853Z",
     "start_time": "2020-04-06T14:38:45.785850Z"
    }
   },
   "outputs": [
    {
     "data": {
      "text/plain": [
       "(14000, 16)"
      ]
     },
     "execution_count": 6,
     "metadata": {},
     "output_type": "execute_result"
    }
   ],
   "source": [
    "test.shape"
   ]
  },
  {
   "cell_type": "code",
   "execution_count": 7,
   "metadata": {
    "ExecuteTime": {
     "end_time": "2020-04-06T14:38:46.317956Z",
     "start_time": "2020-04-06T14:38:46.255125Z"
    },
    "scrolled": false
   },
   "outputs": [
    {
     "data": {
      "text/html": [
       "<div>\n",
       "<style scoped>\n",
       "    .dataframe tbody tr th:only-of-type {\n",
       "        vertical-align: middle;\n",
       "    }\n",
       "\n",
       "    .dataframe tbody tr th {\n",
       "        vertical-align: top;\n",
       "    }\n",
       "\n",
       "    .dataframe thead th {\n",
       "        text-align: right;\n",
       "    }\n",
       "</style>\n",
       "<table border=\"1\" class=\"dataframe\">\n",
       "  <thead>\n",
       "    <tr style=\"text-align: right;\">\n",
       "      <th></th>\n",
       "      <th>Id</th>\n",
       "      <th>fwd</th>\n",
       "      <th>lag_d</th>\n",
       "      <th>noc</th>\n",
       "      <th>gy</th>\n",
       "      <th>ay</th>\n",
       "      <th>noi</th>\n",
       "      <th>UMC</th>\n",
       "      <th>firm</th>\n",
       "      <th>MSA</th>\n",
       "      <th>tbm</th>\n",
       "      <th>tbru</th>\n",
       "      <th>PAG</th>\n",
       "      <th>npr</th>\n",
       "      <th>fpr</th>\n",
       "      <th>FT</th>\n",
       "      <th>FS</th>\n",
       "    </tr>\n",
       "  </thead>\n",
       "  <tbody>\n",
       "    <tr>\n",
       "      <th>count</th>\n",
       "      <td>10000.00000</td>\n",
       "      <td>10000.00000</td>\n",
       "      <td>10000.000000</td>\n",
       "      <td>10000.000000</td>\n",
       "      <td>10000.000000</td>\n",
       "      <td>10000.000000</td>\n",
       "      <td>10000.000000</td>\n",
       "      <td>10000.000000</td>\n",
       "      <td>10000.000000</td>\n",
       "      <td>10000.000000</td>\n",
       "      <td>10000.000000</td>\n",
       "      <td>10000.000000</td>\n",
       "      <td>1.000000e+04</td>\n",
       "      <td>10000.000000</td>\n",
       "      <td>10000.000000</td>\n",
       "      <td>10000.000000</td>\n",
       "      <td>5910.000000</td>\n",
       "    </tr>\n",
       "    <tr>\n",
       "      <th>mean</th>\n",
       "      <td>5000.50000</td>\n",
       "      <td>27.60070</td>\n",
       "      <td>922.361200</td>\n",
       "      <td>18.983300</td>\n",
       "      <td>1995.225000</td>\n",
       "      <td>1992.682400</td>\n",
       "      <td>2.470200</td>\n",
       "      <td>569.438500</td>\n",
       "      <td>422177.515600</td>\n",
       "      <td>273.486600</td>\n",
       "      <td>11.196000</td>\n",
       "      <td>0.495767</td>\n",
       "      <td>4.871120e+06</td>\n",
       "      <td>3.144600</td>\n",
       "      <td>1.069600</td>\n",
       "      <td>2.224100</td>\n",
       "      <td>129.144162</td>\n",
       "    </tr>\n",
       "    <tr>\n",
       "      <th>std</th>\n",
       "      <td>2886.89568</td>\n",
       "      <td>34.78475</td>\n",
       "      <td>358.532159</td>\n",
       "      <td>15.854008</td>\n",
       "      <td>4.592699</td>\n",
       "      <td>4.520727</td>\n",
       "      <td>1.819957</td>\n",
       "      <td>180.249914</td>\n",
       "      <td>258237.559806</td>\n",
       "      <td>187.047603</td>\n",
       "      <td>14.839892</td>\n",
       "      <td>0.266452</td>\n",
       "      <td>6.936701e+05</td>\n",
       "      <td>13.661287</td>\n",
       "      <td>2.968676</td>\n",
       "      <td>0.659183</td>\n",
       "      <td>123.668584</td>\n",
       "    </tr>\n",
       "    <tr>\n",
       "      <th>min</th>\n",
       "      <td>1.00000</td>\n",
       "      <td>0.00000</td>\n",
       "      <td>0.000000</td>\n",
       "      <td>1.000000</td>\n",
       "      <td>1980.000000</td>\n",
       "      <td>1979.000000</td>\n",
       "      <td>1.000000</td>\n",
       "      <td>29.000000</td>\n",
       "      <td>0.000000</td>\n",
       "      <td>2.000000</td>\n",
       "      <td>0.000000</td>\n",
       "      <td>0.000000</td>\n",
       "      <td>0.000000e+00</td>\n",
       "      <td>0.000000</td>\n",
       "      <td>0.000000</td>\n",
       "      <td>1.000000</td>\n",
       "      <td>0.000000</td>\n",
       "    </tr>\n",
       "    <tr>\n",
       "      <th>25%</th>\n",
       "      <td>2500.75000</td>\n",
       "      <td>8.00000</td>\n",
       "      <td>692.000000</td>\n",
       "      <td>9.000000</td>\n",
       "      <td>1993.000000</td>\n",
       "      <td>1990.000000</td>\n",
       "      <td>1.000000</td>\n",
       "      <td>370.000000</td>\n",
       "      <td>250060.000000</td>\n",
       "      <td>142.000000</td>\n",
       "      <td>5.000000</td>\n",
       "      <td>0.345000</td>\n",
       "      <td>4.599728e+06</td>\n",
       "      <td>0.000000</td>\n",
       "      <td>0.000000</td>\n",
       "      <td>2.000000</td>\n",
       "      <td>19.000000</td>\n",
       "    </tr>\n",
       "    <tr>\n",
       "      <th>50%</th>\n",
       "      <td>5000.50000</td>\n",
       "      <td>17.00000</td>\n",
       "      <td>889.000000</td>\n",
       "      <td>16.000000</td>\n",
       "      <td>1997.000000</td>\n",
       "      <td>1994.000000</td>\n",
       "      <td>2.000000</td>\n",
       "      <td>704.000000</td>\n",
       "      <td>386735.000000</td>\n",
       "      <td>257.000000</td>\n",
       "      <td>8.000000</td>\n",
       "      <td>0.561750</td>\n",
       "      <td>4.973963e+06</td>\n",
       "      <td>1.000000</td>\n",
       "      <td>0.000000</td>\n",
       "      <td>2.000000</td>\n",
       "      <td>94.000000</td>\n",
       "    </tr>\n",
       "    <tr>\n",
       "      <th>75%</th>\n",
       "      <td>7500.25000</td>\n",
       "      <td>34.00000</td>\n",
       "      <td>1096.000000</td>\n",
       "      <td>24.000000</td>\n",
       "      <td>1999.000000</td>\n",
       "      <td>1996.000000</td>\n",
       "      <td>3.000000</td>\n",
       "      <td>711.000000</td>\n",
       "      <td>654319.000000</td>\n",
       "      <td>526.000000</td>\n",
       "      <td>13.000000</td>\n",
       "      <td>0.707505</td>\n",
       "      <td>5.287802e+06</td>\n",
       "      <td>2.000000</td>\n",
       "      <td>1.000000</td>\n",
       "      <td>3.000000</td>\n",
       "      <td>225.000000</td>\n",
       "    </tr>\n",
       "    <tr>\n",
       "      <th>max</th>\n",
       "      <td>10000.00000</td>\n",
       "      <td>522.00000</td>\n",
       "      <td>3848.000000</td>\n",
       "      <td>236.000000</td>\n",
       "      <td>2004.000000</td>\n",
       "      <td>1997.000000</td>\n",
       "      <td>23.000000</td>\n",
       "      <td>800.000000</td>\n",
       "      <td>864063.000000</td>\n",
       "      <td>602.000000</td>\n",
       "      <td>343.000000</td>\n",
       "      <td>0.933710</td>\n",
       "      <td>5.974557e+06</td>\n",
       "      <td>394.000000</td>\n",
       "      <td>85.000000</td>\n",
       "      <td>7.000000</td>\n",
       "      <td>854.000000</td>\n",
       "    </tr>\n",
       "  </tbody>\n",
       "</table>\n",
       "</div>"
      ],
      "text/plain": [
       "                Id          fwd         lag_d           noc            gy  \\\n",
       "count  10000.00000  10000.00000  10000.000000  10000.000000  10000.000000   \n",
       "mean    5000.50000     27.60070    922.361200     18.983300   1995.225000   \n",
       "std     2886.89568     34.78475    358.532159     15.854008      4.592699   \n",
       "min        1.00000      0.00000      0.000000      1.000000   1980.000000   \n",
       "25%     2500.75000      8.00000    692.000000      9.000000   1993.000000   \n",
       "50%     5000.50000     17.00000    889.000000     16.000000   1997.000000   \n",
       "75%     7500.25000     34.00000   1096.000000     24.000000   1999.000000   \n",
       "max    10000.00000    522.00000   3848.000000    236.000000   2004.000000   \n",
       "\n",
       "                 ay           noi           UMC           firm           MSA  \\\n",
       "count  10000.000000  10000.000000  10000.000000   10000.000000  10000.000000   \n",
       "mean    1992.682400      2.470200    569.438500  422177.515600    273.486600   \n",
       "std        4.520727      1.819957    180.249914  258237.559806    187.047603   \n",
       "min     1979.000000      1.000000     29.000000       0.000000      2.000000   \n",
       "25%     1990.000000      1.000000    370.000000  250060.000000    142.000000   \n",
       "50%     1994.000000      2.000000    704.000000  386735.000000    257.000000   \n",
       "75%     1996.000000      3.000000    711.000000  654319.000000    526.000000   \n",
       "max     1997.000000     23.000000    800.000000  864063.000000    602.000000   \n",
       "\n",
       "                tbm          tbru           PAG           npr           fpr  \\\n",
       "count  10000.000000  10000.000000  1.000000e+04  10000.000000  10000.000000   \n",
       "mean      11.196000      0.495767  4.871120e+06      3.144600      1.069600   \n",
       "std       14.839892      0.266452  6.936701e+05     13.661287      2.968676   \n",
       "min        0.000000      0.000000  0.000000e+00      0.000000      0.000000   \n",
       "25%        5.000000      0.345000  4.599728e+06      0.000000      0.000000   \n",
       "50%        8.000000      0.561750  4.973963e+06      1.000000      0.000000   \n",
       "75%       13.000000      0.707505  5.287802e+06      2.000000      1.000000   \n",
       "max      343.000000      0.933710  5.974557e+06    394.000000     85.000000   \n",
       "\n",
       "                 FT           FS  \n",
       "count  10000.000000  5910.000000  \n",
       "mean       2.224100   129.144162  \n",
       "std        0.659183   123.668584  \n",
       "min        1.000000     0.000000  \n",
       "25%        2.000000    19.000000  \n",
       "50%        2.000000    94.000000  \n",
       "75%        3.000000   225.000000  \n",
       "max        7.000000   854.000000  "
      ]
     },
     "execution_count": 7,
     "metadata": {},
     "output_type": "execute_result"
    }
   ],
   "source": [
    "data.describe()"
   ]
  },
  {
   "cell_type": "code",
   "execution_count": 8,
   "metadata": {
    "ExecuteTime": {
     "end_time": "2020-04-06T14:38:46.725857Z",
     "start_time": "2020-04-06T14:38:46.712892Z"
    }
   },
   "outputs": [
    {
     "data": {
      "text/html": [
       "<div>\n",
       "<style scoped>\n",
       "    .dataframe tbody tr th:only-of-type {\n",
       "        vertical-align: middle;\n",
       "    }\n",
       "\n",
       "    .dataframe tbody tr th {\n",
       "        vertical-align: top;\n",
       "    }\n",
       "\n",
       "    .dataframe thead th {\n",
       "        text-align: right;\n",
       "    }\n",
       "</style>\n",
       "<table border=\"1\" class=\"dataframe\">\n",
       "  <thead>\n",
       "    <tr style=\"text-align: right;\">\n",
       "      <th></th>\n",
       "      <th>Id</th>\n",
       "      <th>fwd</th>\n",
       "      <th>lag_d</th>\n",
       "      <th>noc</th>\n",
       "      <th>gy</th>\n",
       "      <th>ay</th>\n",
       "      <th>noi</th>\n",
       "      <th>UMC</th>\n",
       "      <th>firm</th>\n",
       "      <th>MSA</th>\n",
       "      <th>tbm</th>\n",
       "      <th>tbru</th>\n",
       "      <th>PAG</th>\n",
       "      <th>npr</th>\n",
       "      <th>fpr</th>\n",
       "      <th>FT</th>\n",
       "      <th>FS</th>\n",
       "    </tr>\n",
       "  </thead>\n",
       "  <tbody>\n",
       "    <tr>\n",
       "      <th>0</th>\n",
       "      <td>1</td>\n",
       "      <td>15</td>\n",
       "      <td>669</td>\n",
       "      <td>21</td>\n",
       "      <td>1998</td>\n",
       "      <td>1996</td>\n",
       "      <td>2</td>\n",
       "      <td>707</td>\n",
       "      <td>280070</td>\n",
       "      <td>261</td>\n",
       "      <td>13</td>\n",
       "      <td>0.60357</td>\n",
       "      <td>5366339.923</td>\n",
       "      <td>6</td>\n",
       "      <td>0</td>\n",
       "      <td>2</td>\n",
       "      <td>225.0</td>\n",
       "    </tr>\n",
       "    <tr>\n",
       "      <th>1</th>\n",
       "      <td>2</td>\n",
       "      <td>8</td>\n",
       "      <td>301</td>\n",
       "      <td>18</td>\n",
       "      <td>1990</td>\n",
       "      <td>1989</td>\n",
       "      <td>2</td>\n",
       "      <td>348</td>\n",
       "      <td>789656</td>\n",
       "      <td>538</td>\n",
       "      <td>1</td>\n",
       "      <td>0.00000</td>\n",
       "      <td>4719510.000</td>\n",
       "      <td>1</td>\n",
       "      <td>0</td>\n",
       "      <td>2</td>\n",
       "      <td>310.0</td>\n",
       "    </tr>\n",
       "    <tr>\n",
       "      <th>2</th>\n",
       "      <td>3</td>\n",
       "      <td>75</td>\n",
       "      <td>1016</td>\n",
       "      <td>23</td>\n",
       "      <td>1997</td>\n",
       "      <td>1994</td>\n",
       "      <td>5</td>\n",
       "      <td>725</td>\n",
       "      <td>499570</td>\n",
       "      <td>13</td>\n",
       "      <td>6</td>\n",
       "      <td>0.61112</td>\n",
       "      <td>4893738.000</td>\n",
       "      <td>0</td>\n",
       "      <td>0</td>\n",
       "      <td>2</td>\n",
       "      <td>3.0</td>\n",
       "    </tr>\n",
       "    <tr>\n",
       "      <th>3</th>\n",
       "      <td>4</td>\n",
       "      <td>50</td>\n",
       "      <td>929</td>\n",
       "      <td>32</td>\n",
       "      <td>1997</td>\n",
       "      <td>1994</td>\n",
       "      <td>3</td>\n",
       "      <td>315</td>\n",
       "      <td>654319</td>\n",
       "      <td>553</td>\n",
       "      <td>4</td>\n",
       "      <td>0.37500</td>\n",
       "      <td>4817136.250</td>\n",
       "      <td>0</td>\n",
       "      <td>5</td>\n",
       "      <td>3</td>\n",
       "      <td>64.0</td>\n",
       "    </tr>\n",
       "    <tr>\n",
       "      <th>4</th>\n",
       "      <td>5</td>\n",
       "      <td>18</td>\n",
       "      <td>1233</td>\n",
       "      <td>20</td>\n",
       "      <td>1999</td>\n",
       "      <td>1996</td>\n",
       "      <td>2</td>\n",
       "      <td>710</td>\n",
       "      <td>551495</td>\n",
       "      <td>261</td>\n",
       "      <td>2</td>\n",
       "      <td>0.00000</td>\n",
       "      <td>5135114.000</td>\n",
       "      <td>0</td>\n",
       "      <td>0</td>\n",
       "      <td>2</td>\n",
       "      <td>14.0</td>\n",
       "    </tr>\n",
       "  </tbody>\n",
       "</table>\n",
       "</div>"
      ],
      "text/plain": [
       "   Id  fwd  lag_d  noc    gy    ay  noi  UMC    firm  MSA  tbm     tbru  \\\n",
       "0   1   15    669   21  1998  1996    2  707  280070  261   13  0.60357   \n",
       "1   2    8    301   18  1990  1989    2  348  789656  538    1  0.00000   \n",
       "2   3   75   1016   23  1997  1994    5  725  499570   13    6  0.61112   \n",
       "3   4   50    929   32  1997  1994    3  315  654319  553    4  0.37500   \n",
       "4   5   18   1233   20  1999  1996    2  710  551495  261    2  0.00000   \n",
       "\n",
       "           PAG  npr  fpr  FT     FS  \n",
       "0  5366339.923    6    0   2  225.0  \n",
       "1  4719510.000    1    0   2  310.0  \n",
       "2  4893738.000    0    0   2    3.0  \n",
       "3  4817136.250    0    5   3   64.0  \n",
       "4  5135114.000    0    0   2   14.0  "
      ]
     },
     "execution_count": 8,
     "metadata": {},
     "output_type": "execute_result"
    }
   ],
   "source": [
    "data.head()\n"
   ]
  },
  {
   "cell_type": "code",
   "execution_count": 9,
   "metadata": {
    "ExecuteTime": {
     "end_time": "2020-04-06T14:38:47.193032Z",
     "start_time": "2020-04-06T14:38:47.185057Z"
    }
   },
   "outputs": [
    {
     "data": {
      "text/plain": [
       "((10000, 15), (10000,))"
      ]
     },
     "execution_count": 9,
     "metadata": {},
     "output_type": "execute_result"
    }
   ],
   "source": [
    "X_train = data.drop(['fwd','Id'], axis=1)\n",
    "y_train = data['fwd']\n",
    "\n",
    "X_train.shape, y_train.shape"
   ]
  },
  {
   "cell_type": "code",
   "execution_count": 10,
   "metadata": {
    "ExecuteTime": {
     "end_time": "2020-04-06T14:38:47.672628Z",
     "start_time": "2020-04-06T14:38:47.664649Z"
    }
   },
   "outputs": [
    {
     "data": {
      "text/plain": [
       "(14000, 15)"
      ]
     },
     "execution_count": 10,
     "metadata": {},
     "output_type": "execute_result"
    }
   ],
   "source": [
    "X_test=test.drop(['Id'], axis=1)\n",
    "X_test.shape"
   ]
  },
  {
   "cell_type": "code",
   "execution_count": 11,
   "metadata": {
    "ExecuteTime": {
     "end_time": "2020-04-06T14:38:48.140153Z",
     "start_time": "2020-04-06T14:38:48.137195Z"
    }
   },
   "outputs": [],
   "source": [
    "categorical=['gy','ay','firm','UMC','MSA','FT']"
   ]
  },
  {
   "cell_type": "code",
   "execution_count": 12,
   "metadata": {
    "ExecuteTime": {
     "end_time": "2020-04-06T14:38:48.629767Z",
     "start_time": "2020-04-06T14:38:48.624764Z"
    }
   },
   "outputs": [],
   "source": [
    "continuous=list(set(list(data.columns))-set(categorical))"
   ]
  },
  {
   "cell_type": "code",
   "execution_count": 13,
   "metadata": {
    "ExecuteTime": {
     "end_time": "2020-04-06T14:38:49.124112Z",
     "start_time": "2020-04-06T14:38:49.105163Z"
    }
   },
   "outputs": [],
   "source": [
    "X_train[categorical] = X_train[categorical].astype('O')\n",
    "X_test[categorical] = X_test[categorical].astype('O')"
   ]
  },
  {
   "cell_type": "code",
   "execution_count": 14,
   "metadata": {
    "ExecuteTime": {
     "end_time": "2020-04-06T14:38:49.603955Z",
     "start_time": "2020-04-06T14:38:49.600929Z"
    }
   },
   "outputs": [],
   "source": [
    "# import relevant modules for feature engineering\n",
    "from sklearn.pipeline import Pipeline\n",
    "from feature_engine import missing_data_imputers as mdi\n",
    "from feature_engine import categorical_encoders as ce"
   ]
  },
  {
   "cell_type": "code",
   "execution_count": 15,
   "metadata": {
    "ExecuteTime": {
     "end_time": "2020-04-06T14:38:50.133230Z",
     "start_time": "2020-04-06T14:38:50.129228Z"
    }
   },
   "outputs": [],
   "source": [
    "patent_preprocess = Pipeline([\n",
    "    ('imputer_num', mdi.MeanMedianImputer(imputation_method='median',\n",
    "                                          variables=['FS'])),\n",
    "    # categorical encoding \n",
    "     ('rare_label_enc', ce.RareLabelCategoricalEncoder(\n",
    "         tol=0.01,n_categories=6, variables=categorical)),\n",
    "    ('categorical_enc', ce.OneHotCategoricalEncoder(variables = categorical)),\n",
    "     \n",
    "])"
   ]
  },
  {
   "cell_type": "code",
   "execution_count": 16,
   "metadata": {
    "ExecuteTime": {
     "end_time": "2020-04-06T14:38:50.686667Z",
     "start_time": "2020-04-06T14:38:50.632843Z"
    }
   },
   "outputs": [
    {
     "data": {
      "text/plain": [
       "Pipeline(memory=None,\n",
       "         steps=[('imputer_num',\n",
       "                 MeanMedianImputer(imputation_method='median',\n",
       "                                   variables=['FS'])),\n",
       "                ('rare_label_enc',\n",
       "                 RareLabelCategoricalEncoder(n_categories=6, tol=0.01,\n",
       "                                             variables=['gy', 'ay', 'firm',\n",
       "                                                        'UMC', 'MSA', 'FT'])),\n",
       "                ('categorical_enc',\n",
       "                 OneHotCategoricalEncoder(drop_last=False, top_categories=None,\n",
       "                                          variables=['gy', 'ay', 'firm', 'UMC',\n",
       "                                                     'MSA', 'FT']))],\n",
       "         verbose=False)"
      ]
     },
     "execution_count": 16,
     "metadata": {},
     "output_type": "execute_result"
    }
   ],
   "source": [
    "patent_preprocess.fit(X_train,y_train)"
   ]
  },
  {
   "cell_type": "code",
   "execution_count": 17,
   "metadata": {
    "ExecuteTime": {
     "end_time": "2020-04-06T14:38:51.544405Z",
     "start_time": "2020-04-06T14:38:51.161434Z"
    }
   },
   "outputs": [],
   "source": [
    "# Apply Transformations\n",
    "X_train=patent_preprocess.transform(X_train)\n",
    "X_test=patent_preprocess.transform(X_test)\n"
   ]
  },
  {
   "cell_type": "code",
   "execution_count": 18,
   "metadata": {
    "ExecuteTime": {
     "end_time": "2020-04-06T14:38:51.996184Z",
     "start_time": "2020-04-06T14:38:51.990200Z"
    }
   },
   "outputs": [
    {
     "data": {
      "text/plain": [
       "(10000, 123)"
      ]
     },
     "execution_count": 18,
     "metadata": {},
     "output_type": "execute_result"
    }
   ],
   "source": [
    "X_train.shape"
   ]
  },
  {
   "cell_type": "code",
   "execution_count": 19,
   "metadata": {
    "ExecuteTime": {
     "end_time": "2020-04-06T14:38:52.420047Z",
     "start_time": "2020-04-06T14:38:52.415057Z"
    }
   },
   "outputs": [
    {
     "data": {
      "text/plain": [
       "(14000, 123)"
      ]
     },
     "execution_count": 19,
     "metadata": {},
     "output_type": "execute_result"
    }
   ],
   "source": [
    "X_test.shape"
   ]
  },
  {
   "cell_type": "code",
   "execution_count": 20,
   "metadata": {
    "ExecuteTime": {
     "end_time": "2020-04-06T14:38:52.842901Z",
     "start_time": "2020-04-06T14:38:52.838920Z"
    }
   },
   "outputs": [],
   "source": [
    "from sklearn.linear_model import LinearRegression\n",
    "from sklearn.linear_model import Ridge\n",
    "from sklearn.tree import DecisionTreeRegressor \n",
    "from sklearn.linear_model import Lasso\n",
    "from sklearn.linear_model import LassoCV\n",
    "from sklearn.model_selection import GridSearchCV\n",
    "from sklearn.linear_model import Ridge\n",
    "from sklearn.linear_model import SGDRegressor as SGDR\n",
    "from sklearn.linear_model import ElasticNet as EN\n",
    "from sklearn.neighbors import KNeighborsRegressor as KNN\n",
    "from sklearn.linear_model import ElasticNet as EN\n",
    "from sklearn.ensemble import VotingRegressor as VR\n",
    "from sklearn.svm import SVR\n",
    "import numpy as np"
   ]
  },
  {
   "cell_type": "code",
   "execution_count": 21,
   "metadata": {
    "ExecuteTime": {
     "end_time": "2020-04-06T14:38:53.259604Z",
     "start_time": "2020-04-06T14:38:53.253591Z"
    }
   },
   "outputs": [],
   "source": [
    "model_gs = Pipeline([('regressor', Lasso())])\n",
    "\n",
    "model_parm_gd = [\n",
    "    \n",
    "   \n",
    "    { 'regressor': [LinearRegression()]},\n",
    "    \n",
    "    \n",
    "    { 'regressor': [Lasso(random_state=0,max_iter=10000)],\n",
    "      'regressor__alpha':[0.02,0.01, 0.1,1]}, \n",
    "    \n",
    "    \n",
    "   { 'regressor':[DecisionTreeRegressor()],\n",
    "      'regressor__max_depth':range(1,8)},\n",
    "    \n",
    "    {'regressor':[Ridge()],\n",
    "     'regressor__alpha':[0.001, 0.01, 0.1, 1, 10, 100]},\n",
    "    \n",
    "    \n",
    "    {'regressor':[KNN(n_jobs=-1)],\n",
    "     'regressor__n_neighbors':[x for x in range(2,10)]},\n",
    "    {'regressor':[EN()],\n",
    "    'regressor__l1_ratio':list(np.arange(0,1,0.1))},\n",
    "    \n",
    "    \n",
    "    \n",
    "\n",
    "]"
   ]
  },
  {
   "cell_type": "code",
   "execution_count": 22,
   "metadata": {
    "ExecuteTime": {
     "end_time": "2020-04-06T14:39:01.309660Z",
     "start_time": "2020-04-06T14:38:53.753053Z"
    },
    "scrolled": false
   },
   "outputs": [
    {
     "name": "stderr",
     "output_type": "stream",
     "text": [
      "C:\\Users\\desai\\Anaconda3\\lib\\site-packages\\sklearn\\linear_model\\_ridge.py:148: LinAlgWarning: Ill-conditioned matrix (rcond=2.70967e-19): result may not be accurate.\n",
      "  overwrite_a=True).T\n",
      "C:\\Users\\desai\\Anaconda3\\lib\\site-packages\\sklearn\\linear_model\\_ridge.py:148: LinAlgWarning: Ill-conditioned matrix (rcond=2.48176e-19): result may not be accurate.\n",
      "  overwrite_a=True).T\n",
      "C:\\Users\\desai\\Anaconda3\\lib\\site-packages\\sklearn\\linear_model\\_ridge.py:148: LinAlgWarning: Ill-conditioned matrix (rcond=2.63647e-19): result may not be accurate.\n",
      "  overwrite_a=True).T\n",
      "C:\\Users\\desai\\Anaconda3\\lib\\site-packages\\sklearn\\linear_model\\_ridge.py:148: LinAlgWarning: Ill-conditioned matrix (rcond=2.62709e-19): result may not be accurate.\n",
      "  overwrite_a=True).T\n",
      "C:\\Users\\desai\\Anaconda3\\lib\\site-packages\\sklearn\\linear_model\\_ridge.py:148: LinAlgWarning: Ill-conditioned matrix (rcond=2.54706e-19): result may not be accurate.\n",
      "  overwrite_a=True).T\n",
      "C:\\Users\\desai\\Anaconda3\\lib\\site-packages\\sklearn\\linear_model\\_ridge.py:148: LinAlgWarning: Ill-conditioned matrix (rcond=2.70923e-18): result may not be accurate.\n",
      "  overwrite_a=True).T\n",
      "C:\\Users\\desai\\Anaconda3\\lib\\site-packages\\sklearn\\linear_model\\_ridge.py:148: LinAlgWarning: Ill-conditioned matrix (rcond=2.4815e-18): result may not be accurate.\n",
      "  overwrite_a=True).T\n",
      "C:\\Users\\desai\\Anaconda3\\lib\\site-packages\\sklearn\\linear_model\\_ridge.py:148: LinAlgWarning: Ill-conditioned matrix (rcond=2.63598e-18): result may not be accurate.\n",
      "  overwrite_a=True).T\n",
      "C:\\Users\\desai\\Anaconda3\\lib\\site-packages\\sklearn\\linear_model\\_ridge.py:148: LinAlgWarning: Ill-conditioned matrix (rcond=2.62657e-18): result may not be accurate.\n",
      "  overwrite_a=True).T\n",
      "C:\\Users\\desai\\Anaconda3\\lib\\site-packages\\sklearn\\linear_model\\_ridge.py:148: LinAlgWarning: Ill-conditioned matrix (rcond=2.54682e-18): result may not be accurate.\n",
      "  overwrite_a=True).T\n",
      "C:\\Users\\desai\\Anaconda3\\lib\\site-packages\\sklearn\\linear_model\\_ridge.py:148: LinAlgWarning: Ill-conditioned matrix (rcond=2.70491e-17): result may not be accurate.\n",
      "  overwrite_a=True).T\n",
      "C:\\Users\\desai\\Anaconda3\\lib\\site-packages\\sklearn\\linear_model\\_ridge.py:148: LinAlgWarning: Ill-conditioned matrix (rcond=2.4789e-17): result may not be accurate.\n",
      "  overwrite_a=True).T\n",
      "C:\\Users\\desai\\Anaconda3\\lib\\site-packages\\sklearn\\linear_model\\_ridge.py:148: LinAlgWarning: Ill-conditioned matrix (rcond=2.63121e-17): result may not be accurate.\n",
      "  overwrite_a=True).T\n",
      "C:\\Users\\desai\\Anaconda3\\lib\\site-packages\\sklearn\\linear_model\\_ridge.py:148: LinAlgWarning: Ill-conditioned matrix (rcond=2.62147e-17): result may not be accurate.\n",
      "  overwrite_a=True).T\n",
      "C:\\Users\\desai\\Anaconda3\\lib\\site-packages\\sklearn\\linear_model\\_ridge.py:148: LinAlgWarning: Ill-conditioned matrix (rcond=2.54442e-17): result may not be accurate.\n",
      "  overwrite_a=True).T\n",
      "C:\\Users\\desai\\Anaconda3\\lib\\site-packages\\sklearn\\linear_model\\_coordinate_descent.py:476: ConvergenceWarning: Objective did not converge. You might want to increase the number of iterations. Duality gap: 4380618.1753758555, tolerance: 935.6278969875001\n",
      "  positive)\n",
      "C:\\Users\\desai\\Anaconda3\\lib\\site-packages\\sklearn\\linear_model\\_coordinate_descent.py:476: ConvergenceWarning: Objective did not converge. You might want to increase the number of iterations. Duality gap: 4543396.759695554, tolerance: 967.9801200000002\n",
      "  positive)\n",
      "C:\\Users\\desai\\Anaconda3\\lib\\site-packages\\sklearn\\linear_model\\_coordinate_descent.py:476: ConvergenceWarning: Objective did not converge. You might want to increase the number of iterations. Duality gap: 4767438.274422674, tolerance: 1020.4864044875001\n",
      "  positive)\n",
      "C:\\Users\\desai\\Anaconda3\\lib\\site-packages\\sklearn\\linear_model\\_coordinate_descent.py:476: ConvergenceWarning: Objective did not converge. You might want to increase the number of iterations. Duality gap: 4558763.948363675, tolerance: 974.5919752000001\n",
      "  positive)\n",
      "C:\\Users\\desai\\Anaconda3\\lib\\site-packages\\sklearn\\linear_model\\_coordinate_descent.py:476: ConvergenceWarning: Objective did not converge. You might want to increase the number of iterations. Duality gap: 4457766.991243186, tolerance: 940.62024595\n",
      "  positive)\n"
     ]
    },
    {
     "name": "stdout",
     "output_type": "stream",
     "text": [
      "Best parameters:  {'regressor': Ridge(alpha=10, copy_X=True, fit_intercept=True, max_iter=None, normalize=False,\n",
      "      random_state=None, solver='auto', tol=0.001), 'regressor__alpha': 10}\n",
      "Best cross-validation score: 0.1533457350440286\n"
     ]
    }
   ],
   "source": [
    "grid_search_kaggle = GridSearchCV(model_gs,model_parm_gd,cv=5)\n",
    "grid_search_kaggle.fit(X_train,y_train)\n",
    "print('Best parameters: ', grid_search_kaggle.best_params_)\n",
    "print('Best cross-validation score:', grid_search_kaggle.best_score_)"
   ]
  },
  {
   "cell_type": "code",
   "execution_count": 23,
   "metadata": {
    "ExecuteTime": {
     "end_time": "2020-04-06T14:39:01.771497Z",
     "start_time": "2020-04-06T14:39:01.752549Z"
    }
   },
   "outputs": [
    {
     "data": {
      "text/plain": [
       "0.17874023209389064"
      ]
     },
     "execution_count": 23,
     "metadata": {},
     "output_type": "execute_result"
    }
   ],
   "source": [
    "grid_search_kaggle.score(X_train,y_train)"
   ]
  },
  {
   "cell_type": "code",
   "execution_count": 24,
   "metadata": {},
   "outputs": [],
   "source": [
    "y_test_kaggle=grid_search_kaggle.predict(X_test)"
   ]
  },
  {
   "cell_type": "code",
   "execution_count": 25,
   "metadata": {},
   "outputs": [
    {
     "name": "stderr",
     "output_type": "stream",
     "text": [
      "C:\\Users\\desai\\Anaconda3\\lib\\site-packages\\sklearn\\linear_model\\_coordinate_descent.py:476: ConvergenceWarning: Objective did not converge. You might want to increase the number of iterations. Duality gap: 3810801.536139721, tolerance: 935.6278969875001\n",
      "  positive)\n",
      "C:\\Users\\desai\\Anaconda3\\lib\\site-packages\\sklearn\\linear_model\\_coordinate_descent.py:476: ConvergenceWarning: Objective did not converge. You might want to increase the number of iterations. Duality gap: 3971139.2429122427, tolerance: 967.9801200000002\n",
      "  positive)\n",
      "C:\\Users\\desai\\Anaconda3\\lib\\site-packages\\sklearn\\linear_model\\_coordinate_descent.py:476: ConvergenceWarning: Objective did not converge. You might want to increase the number of iterations. Duality gap: 4181247.2852796856, tolerance: 1020.4864044875001\n",
      "  positive)\n",
      "C:\\Users\\desai\\Anaconda3\\lib\\site-packages\\sklearn\\linear_model\\_coordinate_descent.py:476: ConvergenceWarning: Objective did not converge. You might want to increase the number of iterations. Duality gap: 3944328.2121596187, tolerance: 974.5919752000001\n",
      "  positive)\n",
      "C:\\Users\\desai\\Anaconda3\\lib\\site-packages\\sklearn\\linear_model\\_coordinate_descent.py:476: ConvergenceWarning: Objective did not converge. You might want to increase the number of iterations. Duality gap: 3862249.055582972, tolerance: 940.62024595\n",
      "  positive)\n",
      "C:\\Users\\desai\\Anaconda3\\lib\\site-packages\\sklearn\\linear_model\\_coordinate_descent.py:476: ConvergenceWarning: Objective did not converge. You might want to increase the number of iterations. Duality gap: 3264027.3290813365, tolerance: 967.9801200000002\n",
      "  positive)\n",
      "C:\\Users\\desai\\Anaconda3\\lib\\site-packages\\sklearn\\linear_model\\_coordinate_descent.py:476: ConvergenceWarning: Objective did not converge. You might want to increase the number of iterations. Duality gap: 941827.4082067157, tolerance: 940.62024595\n",
      "  positive)\n"
     ]
    },
    {
     "name": "stdout",
     "output_type": "stream",
     "text": [
      "Lasso parameters:  {'alpha': 0.01}\n"
     ]
    },
    {
     "name": "stderr",
     "output_type": "stream",
     "text": [
      "C:\\Users\\desai\\Anaconda3\\lib\\site-packages\\sklearn\\linear_model\\_coordinate_descent.py:476: ConvergenceWarning: Objective did not converge. You might want to increase the number of iterations. Duality gap: 4747615.298429645, tolerance: 1209.85785951\n",
      "  positive)\n"
     ]
    }
   ],
   "source": [
    "lasso = Lasso(random_state=0)\n",
    "\n",
    "param_lasso = {'alpha':[0.001, 0.01, 0.1, 1, 10, 100] }\n",
    "\n",
    "grid_lasso = GridSearchCV(lasso, param_lasso, cv=5, return_train_score = True)\n",
    "grid_lasso.fit(X_train, y_train)\n",
    "y_pred_lasso=grid_lasso.best_estimator_.predict(X_test)\n",
    "\n",
    "\n",
    "print('Lasso parameters: ', grid_lasso.best_params_)"
   ]
  },
  {
   "cell_type": "code",
   "execution_count": 26,
   "metadata": {},
   "outputs": [
    {
     "name": "stderr",
     "output_type": "stream",
     "text": [
      "C:\\Users\\desai\\Anaconda3\\lib\\site-packages\\sklearn\\linear_model\\_ridge.py:148: LinAlgWarning: Ill-conditioned matrix (rcond=2.70967e-19): result may not be accurate.\n",
      "  overwrite_a=True).T\n",
      "C:\\Users\\desai\\Anaconda3\\lib\\site-packages\\sklearn\\linear_model\\_ridge.py:148: LinAlgWarning: Ill-conditioned matrix (rcond=2.48176e-19): result may not be accurate.\n",
      "  overwrite_a=True).T\n",
      "C:\\Users\\desai\\Anaconda3\\lib\\site-packages\\sklearn\\linear_model\\_ridge.py:148: LinAlgWarning: Ill-conditioned matrix (rcond=2.63647e-19): result may not be accurate.\n",
      "  overwrite_a=True).T\n",
      "C:\\Users\\desai\\Anaconda3\\lib\\site-packages\\sklearn\\linear_model\\_ridge.py:148: LinAlgWarning: Ill-conditioned matrix (rcond=2.62709e-19): result may not be accurate.\n",
      "  overwrite_a=True).T\n",
      "C:\\Users\\desai\\Anaconda3\\lib\\site-packages\\sklearn\\linear_model\\_ridge.py:148: LinAlgWarning: Ill-conditioned matrix (rcond=2.54706e-19): result may not be accurate.\n",
      "  overwrite_a=True).T\n",
      "C:\\Users\\desai\\Anaconda3\\lib\\site-packages\\sklearn\\linear_model\\_ridge.py:148: LinAlgWarning: Ill-conditioned matrix (rcond=2.70923e-18): result may not be accurate.\n",
      "  overwrite_a=True).T\n",
      "C:\\Users\\desai\\Anaconda3\\lib\\site-packages\\sklearn\\linear_model\\_ridge.py:148: LinAlgWarning: Ill-conditioned matrix (rcond=2.4815e-18): result may not be accurate.\n",
      "  overwrite_a=True).T\n",
      "C:\\Users\\desai\\Anaconda3\\lib\\site-packages\\sklearn\\linear_model\\_ridge.py:148: LinAlgWarning: Ill-conditioned matrix (rcond=2.63598e-18): result may not be accurate.\n",
      "  overwrite_a=True).T\n",
      "C:\\Users\\desai\\Anaconda3\\lib\\site-packages\\sklearn\\linear_model\\_ridge.py:148: LinAlgWarning: Ill-conditioned matrix (rcond=2.62657e-18): result may not be accurate.\n",
      "  overwrite_a=True).T\n",
      "C:\\Users\\desai\\Anaconda3\\lib\\site-packages\\sklearn\\linear_model\\_ridge.py:148: LinAlgWarning: Ill-conditioned matrix (rcond=2.54682e-18): result may not be accurate.\n",
      "  overwrite_a=True).T\n",
      "C:\\Users\\desai\\Anaconda3\\lib\\site-packages\\sklearn\\linear_model\\_ridge.py:148: LinAlgWarning: Ill-conditioned matrix (rcond=2.70491e-17): result may not be accurate.\n",
      "  overwrite_a=True).T\n",
      "C:\\Users\\desai\\Anaconda3\\lib\\site-packages\\sklearn\\linear_model\\_ridge.py:148: LinAlgWarning: Ill-conditioned matrix (rcond=2.4789e-17): result may not be accurate.\n",
      "  overwrite_a=True).T\n",
      "C:\\Users\\desai\\Anaconda3\\lib\\site-packages\\sklearn\\linear_model\\_ridge.py:148: LinAlgWarning: Ill-conditioned matrix (rcond=2.63121e-17): result may not be accurate.\n",
      "  overwrite_a=True).T\n",
      "C:\\Users\\desai\\Anaconda3\\lib\\site-packages\\sklearn\\linear_model\\_ridge.py:148: LinAlgWarning: Ill-conditioned matrix (rcond=2.62147e-17): result may not be accurate.\n",
      "  overwrite_a=True).T\n",
      "C:\\Users\\desai\\Anaconda3\\lib\\site-packages\\sklearn\\linear_model\\_ridge.py:148: LinAlgWarning: Ill-conditioned matrix (rcond=2.54442e-17): result may not be accurate.\n",
      "  overwrite_a=True).T\n"
     ]
    },
    {
     "name": "stdout",
     "output_type": "stream",
     "text": [
      "Ridge parameters:  {'alpha': 10}\n"
     ]
    }
   ],
   "source": [
    "ridge = Ridge()\n",
    "\n",
    "#define a list of parameters\n",
    "param_ridge = {'alpha':[0.001, 0.01, 0.1, 1, 10, 100] }\n",
    "\n",
    "grid_ridge = GridSearchCV(ridge, param_ridge, cv=5, return_train_score = True)\n",
    "grid_ridge.fit(X_train, y_train)\n",
    "\n",
    "print('Ridge parameters: ', grid_ridge.best_params_)\n"
   ]
  },
  {
   "cell_type": "code",
   "execution_count": 27,
   "metadata": {},
   "outputs": [
    {
     "name": "stdout",
     "output_type": "stream",
     "text": [
      " Decision tree parameters: {'max_depth': 1}\n",
      "\n"
     ]
    }
   ],
   "source": [
    "dt=DecisionTreeRegressor()\n",
    "max_depth=[x for x in range(1,20)]\n",
    "param_grid=dict(max_depth=max_depth)\n",
    "searcher=GridSearchCV(estimator=dt,param_grid=param_grid,cv=5)\n",
    "searcher.fit(X_train,y_train)\n",
    "\n",
    "y_pred_dt=searcher.best_estimator_.predict(X_test)\n",
    "\n",
    "print(f\" Decision tree parameters: {searcher.best_params_}\")\n",
    "print()"
   ]
  },
  {
   "cell_type": "code",
   "execution_count": 28,
   "metadata": {},
   "outputs": [
    {
     "name": "stdout",
     "output_type": "stream",
     "text": [
      " KNN parameters: {'n_neighbors': 9}\n",
      "\n"
     ]
    }
   ],
   "source": [
    "knn=KNN(n_jobs=-1)\n",
    "param_grid={'n_neighbors':[x for x in range(5,10)]}\n",
    "knn_grid=GridSearchCV(knn,param_grid,cv=5)\n",
    "knn_grid.fit(X_train,y_train)\n",
    "_pred_knn=knn_grid.predict(X_test)\n",
    "print(f\" KNN parameters: {knn_grid.best_params_}\")\n",
    "print()"
   ]
  },
  {
   "cell_type": "code",
   "execution_count": 29,
   "metadata": {},
   "outputs": [
    {
     "name": "stderr",
     "output_type": "stream",
     "text": [
      "C:\\Users\\desai\\Anaconda3\\lib\\site-packages\\sklearn\\linear_model\\_coordinate_descent.py:476: ConvergenceWarning: Objective did not converge. You might want to increase the number of iterations. Duality gap: 3826690.0365532, tolerance: 935.6278969875001\n",
      "  positive)\n",
      "C:\\Users\\desai\\Anaconda3\\lib\\site-packages\\sklearn\\linear_model\\_coordinate_descent.py:476: ConvergenceWarning: Objective did not converge. You might want to increase the number of iterations. Duality gap: 3984394.6141576213, tolerance: 967.9801200000002\n",
      "  positive)\n",
      "C:\\Users\\desai\\Anaconda3\\lib\\site-packages\\sklearn\\linear_model\\_coordinate_descent.py:476: ConvergenceWarning: Objective did not converge. You might want to increase the number of iterations. Duality gap: 4196878.374784071, tolerance: 1020.4864044875001\n",
      "  positive)\n",
      "C:\\Users\\desai\\Anaconda3\\lib\\site-packages\\sklearn\\linear_model\\_coordinate_descent.py:476: ConvergenceWarning: Objective did not converge. You might want to increase the number of iterations. Duality gap: 3963056.286416354, tolerance: 974.5919752000001\n",
      "  positive)\n",
      "C:\\Users\\desai\\Anaconda3\\lib\\site-packages\\sklearn\\linear_model\\_coordinate_descent.py:476: ConvergenceWarning: Objective did not converge. You might want to increase the number of iterations. Duality gap: 3917783.8974121884, tolerance: 940.62024595\n",
      "  positive)\n",
      "C:\\Users\\desai\\Anaconda3\\lib\\site-packages\\sklearn\\linear_model\\_coordinate_descent.py:476: ConvergenceWarning: Objective did not converge. You might want to increase the number of iterations. Duality gap: 1366.1144152535126, tolerance: 1020.4864044875001\n",
      "  positive)\n",
      "C:\\Users\\desai\\Anaconda3\\lib\\site-packages\\sklearn\\linear_model\\_coordinate_descent.py:476: ConvergenceWarning: Objective did not converge. You might want to increase the number of iterations. Duality gap: 2014.6638978533447, tolerance: 974.5919752000001\n",
      "  positive)\n",
      "C:\\Users\\desai\\Anaconda3\\lib\\site-packages\\sklearn\\linear_model\\_coordinate_descent.py:476: ConvergenceWarning: Objective did not converge. You might want to increase the number of iterations. Duality gap: 3241.199452814646, tolerance: 940.62024595\n",
      "  positive)\n",
      "C:\\Users\\desai\\Anaconda3\\lib\\site-packages\\sklearn\\linear_model\\_coordinate_descent.py:476: ConvergenceWarning: Objective did not converge. You might want to increase the number of iterations. Duality gap: 6448.627412756905, tolerance: 1020.4864044875001\n",
      "  positive)\n",
      "C:\\Users\\desai\\Anaconda3\\lib\\site-packages\\sklearn\\linear_model\\_coordinate_descent.py:476: ConvergenceWarning: Objective did not converge. You might want to increase the number of iterations. Duality gap: 10112.640104237944, tolerance: 974.5919752000001\n",
      "  positive)\n",
      "C:\\Users\\desai\\Anaconda3\\lib\\site-packages\\sklearn\\linear_model\\_coordinate_descent.py:476: ConvergenceWarning: Objective did not converge. You might want to increase the number of iterations. Duality gap: 18453.462391074747, tolerance: 940.62024595\n",
      "  positive)\n",
      "C:\\Users\\desai\\Anaconda3\\lib\\site-packages\\sklearn\\linear_model\\_coordinate_descent.py:476: ConvergenceWarning: Objective did not converge. You might want to increase the number of iterations. Duality gap: 26293.431499680504, tolerance: 1020.4864044875001\n",
      "  positive)\n",
      "C:\\Users\\desai\\Anaconda3\\lib\\site-packages\\sklearn\\linear_model\\_coordinate_descent.py:476: ConvergenceWarning: Objective did not converge. You might want to increase the number of iterations. Duality gap: 49229.24984535575, tolerance: 974.5919752000001\n",
      "  positive)\n",
      "C:\\Users\\desai\\Anaconda3\\lib\\site-packages\\sklearn\\linear_model\\_coordinate_descent.py:476: ConvergenceWarning: Objective did not converge. You might want to increase the number of iterations. Duality gap: 121280.6092265714, tolerance: 940.62024595\n",
      "  positive)\n",
      "C:\\Users\\desai\\Anaconda3\\lib\\site-packages\\sklearn\\linear_model\\_coordinate_descent.py:476: ConvergenceWarning: Objective did not converge. You might want to increase the number of iterations. Duality gap: 470049.5819164477, tolerance: 940.62024595\n",
      "  positive)\n",
      "C:\\Users\\desai\\Anaconda3\\lib\\site-packages\\sklearn\\linear_model\\_coordinate_descent.py:476: ConvergenceWarning: Objective did not converge. You might want to increase the number of iterations. Duality gap: 916355.1868966017, tolerance: 940.62024595\n",
      "  positive)\n",
      "C:\\Users\\desai\\Anaconda3\\lib\\site-packages\\sklearn\\linear_model\\_coordinate_descent.py:476: ConvergenceWarning: Objective did not converge. You might want to increase the number of iterations. Duality gap: 2704429.034958207, tolerance: 935.6278969875001\n",
      "  positive)\n",
      "C:\\Users\\desai\\Anaconda3\\lib\\site-packages\\sklearn\\linear_model\\_coordinate_descent.py:476: ConvergenceWarning: Objective did not converge. You might want to increase the number of iterations. Duality gap: 2768495.11411519, tolerance: 967.9801200000002\n",
      "  positive)\n",
      "C:\\Users\\desai\\Anaconda3\\lib\\site-packages\\sklearn\\linear_model\\_coordinate_descent.py:476: ConvergenceWarning: Objective did not converge. You might want to increase the number of iterations. Duality gap: 1998574.7823042222, tolerance: 1020.4864044875001\n",
      "  positive)\n",
      "C:\\Users\\desai\\Anaconda3\\lib\\site-packages\\sklearn\\linear_model\\_coordinate_descent.py:476: ConvergenceWarning: Objective did not converge. You might want to increase the number of iterations. Duality gap: 1982374.2664364595, tolerance: 974.5919752000001\n",
      "  positive)\n",
      "C:\\Users\\desai\\Anaconda3\\lib\\site-packages\\sklearn\\linear_model\\_coordinate_descent.py:476: ConvergenceWarning: Objective did not converge. You might want to increase the number of iterations. Duality gap: 6018.250523657538, tolerance: 940.62024595\n",
      "  positive)\n",
      "C:\\Users\\desai\\Anaconda3\\lib\\site-packages\\sklearn\\linear_model\\_coordinate_descent.py:476: ConvergenceWarning: Objective did not converge. You might want to increase the number of iterations. Duality gap: 3599761.786891885, tolerance: 935.6278969875001\n",
      "  positive)\n",
      "C:\\Users\\desai\\Anaconda3\\lib\\site-packages\\sklearn\\linear_model\\_coordinate_descent.py:476: ConvergenceWarning: Objective did not converge. You might want to increase the number of iterations. Duality gap: 3819956.0217496245, tolerance: 967.9801200000002\n",
      "  positive)\n",
      "C:\\Users\\desai\\Anaconda3\\lib\\site-packages\\sklearn\\linear_model\\_coordinate_descent.py:476: ConvergenceWarning: Objective did not converge. You might want to increase the number of iterations. Duality gap: 2621497.683392085, tolerance: 1020.4864044875001\n",
      "  positive)\n",
      "C:\\Users\\desai\\Anaconda3\\lib\\site-packages\\sklearn\\linear_model\\_coordinate_descent.py:476: ConvergenceWarning: Objective did not converge. You might want to increase the number of iterations. Duality gap: 3785024.852255308, tolerance: 974.5919752000001\n",
      "  positive)\n",
      "C:\\Users\\desai\\Anaconda3\\lib\\site-packages\\sklearn\\linear_model\\_coordinate_descent.py:476: ConvergenceWarning: Objective did not converge. You might want to increase the number of iterations. Duality gap: 3628579.142799567, tolerance: 940.62024595\n",
      "  positive)\n",
      "C:\\Users\\desai\\Anaconda3\\lib\\site-packages\\sklearn\\linear_model\\_coordinate_descent.py:476: ConvergenceWarning: Objective did not converge. You might want to increase the number of iterations. Duality gap: 3654479.9589315685, tolerance: 935.6278969875001\n",
      "  positive)\n",
      "C:\\Users\\desai\\Anaconda3\\lib\\site-packages\\sklearn\\linear_model\\_coordinate_descent.py:476: ConvergenceWarning: Objective did not converge. You might want to increase the number of iterations. Duality gap: 3953061.134553951, tolerance: 967.9801200000002\n",
      "  positive)\n",
      "C:\\Users\\desai\\Anaconda3\\lib\\site-packages\\sklearn\\linear_model\\_coordinate_descent.py:476: ConvergenceWarning: Objective did not converge. You might want to increase the number of iterations. Duality gap: 3852739.3719481747, tolerance: 1020.4864044875001\n",
      "  positive)\n",
      "C:\\Users\\desai\\Anaconda3\\lib\\site-packages\\sklearn\\linear_model\\_coordinate_descent.py:476: ConvergenceWarning: Objective did not converge. You might want to increase the number of iterations. Duality gap: 3920350.0030270955, tolerance: 974.5919752000001\n",
      "  positive)\n",
      "C:\\Users\\desai\\Anaconda3\\lib\\site-packages\\sklearn\\linear_model\\_coordinate_descent.py:476: ConvergenceWarning: Objective did not converge. You might want to increase the number of iterations. Duality gap: 3186947.2889761347, tolerance: 940.62024595\n",
      "  positive)\n"
     ]
    },
    {
     "name": "stderr",
     "output_type": "stream",
     "text": [
      "C:\\Users\\desai\\Anaconda3\\lib\\site-packages\\sklearn\\linear_model\\_coordinate_descent.py:476: ConvergenceWarning: Objective did not converge. You might want to increase the number of iterations. Duality gap: 3925848.109315997, tolerance: 935.6278969875001\n",
      "  positive)\n",
      "C:\\Users\\desai\\Anaconda3\\lib\\site-packages\\sklearn\\linear_model\\_coordinate_descent.py:476: ConvergenceWarning: Objective did not converge. You might want to increase the number of iterations. Duality gap: 4080524.484029673, tolerance: 967.9801200000002\n",
      "  positive)\n",
      "C:\\Users\\desai\\Anaconda3\\lib\\site-packages\\sklearn\\linear_model\\_coordinate_descent.py:476: ConvergenceWarning: Objective did not converge. You might want to increase the number of iterations. Duality gap: 4299050.206022349, tolerance: 1020.4864044875001\n",
      "  positive)\n",
      "C:\\Users\\desai\\Anaconda3\\lib\\site-packages\\sklearn\\linear_model\\_coordinate_descent.py:476: ConvergenceWarning: Objective did not converge. You might want to increase the number of iterations. Duality gap: 4074235.8642141926, tolerance: 974.5919752000001\n",
      "  positive)\n",
      "C:\\Users\\desai\\Anaconda3\\lib\\site-packages\\sklearn\\linear_model\\_coordinate_descent.py:476: ConvergenceWarning: Objective did not converge. You might want to increase the number of iterations. Duality gap: 4017480.9371317537, tolerance: 940.62024595\n",
      "  positive)\n",
      "C:\\Users\\desai\\Anaconda3\\lib\\site-packages\\sklearn\\linear_model\\_coordinate_descent.py:476: ConvergenceWarning: Objective did not converge. You might want to increase the number of iterations. Duality gap: 4173967.93884871, tolerance: 935.6278969875001\n",
      "  positive)\n",
      "C:\\Users\\desai\\Anaconda3\\lib\\site-packages\\sklearn\\linear_model\\_coordinate_descent.py:476: ConvergenceWarning: Objective did not converge. You might want to increase the number of iterations. Duality gap: 4330335.545413943, tolerance: 967.9801200000002\n",
      "  positive)\n",
      "C:\\Users\\desai\\Anaconda3\\lib\\site-packages\\sklearn\\linear_model\\_coordinate_descent.py:476: ConvergenceWarning: Objective did not converge. You might want to increase the number of iterations. Duality gap: 4553187.406142435, tolerance: 1020.4864044875001\n",
      "  positive)\n",
      "C:\\Users\\desai\\Anaconda3\\lib\\site-packages\\sklearn\\linear_model\\_coordinate_descent.py:476: ConvergenceWarning: Objective did not converge. You might want to increase the number of iterations. Duality gap: 4340173.724115815, tolerance: 974.5919752000001\n",
      "  positive)\n",
      "C:\\Users\\desai\\Anaconda3\\lib\\site-packages\\sklearn\\linear_model\\_coordinate_descent.py:476: ConvergenceWarning: Objective did not converge. You might want to increase the number of iterations. Duality gap: 4257930.218267877, tolerance: 940.62024595\n",
      "  positive)\n",
      "C:\\Users\\desai\\Anaconda3\\lib\\site-packages\\sklearn\\linear_model\\_coordinate_descent.py:476: ConvergenceWarning: Objective did not converge. You might want to increase the number of iterations. Duality gap: 4380618.1753758555, tolerance: 935.6278969875001\n",
      "  positive)\n",
      "C:\\Users\\desai\\Anaconda3\\lib\\site-packages\\sklearn\\linear_model\\_coordinate_descent.py:476: ConvergenceWarning: Objective did not converge. You might want to increase the number of iterations. Duality gap: 4543396.759695554, tolerance: 967.9801200000002\n",
      "  positive)\n",
      "C:\\Users\\desai\\Anaconda3\\lib\\site-packages\\sklearn\\linear_model\\_coordinate_descent.py:476: ConvergenceWarning: Objective did not converge. You might want to increase the number of iterations. Duality gap: 4767438.274422674, tolerance: 1020.4864044875001\n",
      "  positive)\n",
      "C:\\Users\\desai\\Anaconda3\\lib\\site-packages\\sklearn\\linear_model\\_coordinate_descent.py:476: ConvergenceWarning: Objective did not converge. You might want to increase the number of iterations. Duality gap: 4558763.948363675, tolerance: 974.5919752000001\n",
      "  positive)\n",
      "C:\\Users\\desai\\Anaconda3\\lib\\site-packages\\sklearn\\linear_model\\_coordinate_descent.py:476: ConvergenceWarning: Objective did not converge. You might want to increase the number of iterations. Duality gap: 4457766.991243186, tolerance: 940.62024595\n",
      "  positive)\n",
      "C:\\Users\\desai\\Anaconda3\\lib\\site-packages\\sklearn\\linear_model\\_coordinate_descent.py:476: ConvergenceWarning: Objective did not converge. You might want to increase the number of iterations. Duality gap: 4454193.584233714, tolerance: 935.6278969875001\n",
      "  positive)\n",
      "C:\\Users\\desai\\Anaconda3\\lib\\site-packages\\sklearn\\linear_model\\_coordinate_descent.py:476: ConvergenceWarning: Objective did not converge. You might want to increase the number of iterations. Duality gap: 4617558.662604302, tolerance: 967.9801200000002\n",
      "  positive)\n",
      "C:\\Users\\desai\\Anaconda3\\lib\\site-packages\\sklearn\\linear_model\\_coordinate_descent.py:476: ConvergenceWarning: Objective did not converge. You might want to increase the number of iterations. Duality gap: 4843498.391603599, tolerance: 1020.4864044875001\n",
      "  positive)\n",
      "C:\\Users\\desai\\Anaconda3\\lib\\site-packages\\sklearn\\linear_model\\_coordinate_descent.py:476: ConvergenceWarning: Objective did not converge. You might want to increase the number of iterations. Duality gap: 4635802.521764091, tolerance: 974.5919752000001\n",
      "  positive)\n",
      "C:\\Users\\desai\\Anaconda3\\lib\\site-packages\\sklearn\\linear_model\\_coordinate_descent.py:476: ConvergenceWarning: Objective did not converge. You might want to increase the number of iterations. Duality gap: 4528674.697337992, tolerance: 940.62024595\n",
      "  positive)\n",
      "C:\\Users\\desai\\Anaconda3\\lib\\site-packages\\sklearn\\linear_model\\_coordinate_descent.py:476: ConvergenceWarning: Objective did not converge. You might want to increase the number of iterations. Duality gap: 4510166.615383653, tolerance: 935.6278969875001\n",
      "  positive)\n",
      "C:\\Users\\desai\\Anaconda3\\lib\\site-packages\\sklearn\\linear_model\\_coordinate_descent.py:476: ConvergenceWarning: Objective did not converge. You might want to increase the number of iterations. Duality gap: 4673213.462028447, tolerance: 967.9801200000002\n",
      "  positive)\n",
      "C:\\Users\\desai\\Anaconda3\\lib\\site-packages\\sklearn\\linear_model\\_coordinate_descent.py:476: ConvergenceWarning: Objective did not converge. You might want to increase the number of iterations. Duality gap: 4907695.356111985, tolerance: 1020.4864044875001\n",
      "  positive)\n",
      "C:\\Users\\desai\\Anaconda3\\lib\\site-packages\\sklearn\\linear_model\\_coordinate_descent.py:476: ConvergenceWarning: Objective did not converge. You might want to increase the number of iterations. Duality gap: 4695540.042271544, tolerance: 974.5919752000001\n",
      "  positive)\n",
      "C:\\Users\\desai\\Anaconda3\\lib\\site-packages\\sklearn\\linear_model\\_coordinate_descent.py:476: ConvergenceWarning: Objective did not converge. You might want to increase the number of iterations. Duality gap: 4574229.247895997, tolerance: 940.62024595\n",
      "  positive)\n"
     ]
    },
    {
     "name": "stdout",
     "output_type": "stream",
     "text": [
      "ElasticNet parameters:  {'alpha': 0.01, 'l1_ratio': 0.8}\n",
      "\n"
     ]
    }
   ],
   "source": [
    "elas_net=EN()\n",
    "\n",
    "param_grid={'alpha':[0.001, 0.01, 0.1, 1, 10, 100],'l1_ratio':list(np.arange(0,1,0.1))}\n",
    "\n",
    "grid_elas = GridSearchCV(elas_net, param_grid, cv=5, return_train_score = True)\n",
    "grid_elas.fit(X_train, y_train)\n",
    "y_pred_elas=grid_elas.best_estimator_.predict(X_test)\n",
    "\n",
    "\n",
    "print('ElasticNet parameters: ', grid_elas.best_params_)\n",
    "print()"
   ]
  },
  {
   "cell_type": "code",
   "execution_count": 30,
   "metadata": {},
   "outputs": [
    {
     "data": {
      "text/plain": [
       "898.3978558219771"
      ]
     },
     "execution_count": 30,
     "metadata": {},
     "output_type": "execute_result"
    }
   ],
   "source": [
    "lscv=LassoCV()\n",
    "lscv.fit(X_train,y_train)\n",
    "lscv.alpha_"
   ]
  },
  {
   "cell_type": "code",
   "execution_count": 38,
   "metadata": {},
   "outputs": [
    {
     "name": "stderr",
     "output_type": "stream",
     "text": [
      "C:\\Users\\desai\\Anaconda3\\lib\\site-packages\\sklearn\\linear_model\\_coordinate_descent.py:476: ConvergenceWarning: Objective did not converge. You might want to increase the number of iterations. Duality gap: 4747615.298429645, tolerance: 1209.85785951\n",
      "  positive)\n"
     ]
    },
    {
     "data": {
      "text/plain": [
       "VotingRegressor(estimators=[('linear regressor',\n",
       "                             LinearRegression(copy_X=True, fit_intercept=True,\n",
       "                                              n_jobs=None, normalize=False)),\n",
       "                            ('lasso',\n",
       "                             Lasso(alpha=0.01, copy_X=True, fit_intercept=True,\n",
       "                                   max_iter=1000, normalize=False,\n",
       "                                   positive=False, precompute=False,\n",
       "                                   random_state=None, selection='cyclic',\n",
       "                                   tol=0.0001, warm_start=False)),\n",
       "                            ('ridge',\n",
       "                             Ridge(alpha=10, copy_X=True, fit...\n",
       "                                                       loss='ls', max_depth=3,\n",
       "                                                       max_features=None,\n",
       "                                                       max_leaf_nodes=None,\n",
       "                                                       min_impurity_decrease=0.0,\n",
       "                                                       min_impurity_split=None,\n",
       "                                                       min_samples_leaf=1,\n",
       "                                                       min_samples_split=2,\n",
       "                                                       min_weight_fraction_leaf=0.0,\n",
       "                                                       n_estimators=100,\n",
       "                                                       n_iter_no_change=None,\n",
       "                                                       presort='deprecated',\n",
       "                                                       random_state=None,\n",
       "                                                       subsample=1.0,\n",
       "                                                       tol=0.0001,\n",
       "                                                       validation_fraction=0.1,\n",
       "                                                       verbose=0,\n",
       "                                                       warm_start=False))],\n",
       "                n_jobs=None, weights=None)"
      ]
     },
     "execution_count": 38,
     "metadata": {},
     "output_type": "execute_result"
    }
   ],
   "source": [
    "from sklearn.ensemble import VotingRegressor as VR\n",
    "lm=LinearRegression()\n",
    "lasso_2=Lasso(alpha=0.01)\n",
    "ridge_2=Ridge(alpha=10)\n",
    "elas_net_2=EN(alpha=0.01,l1_ratio=0.8)\n",
    "dt_2=DecisionTreeRegressor(max_depth=1)\n",
    "knn_2=KNN(n_jobs=-1,n_neighbors=9)\n",
    "grad_regress_2=GradientBoostingRegressor('ls')\n",
    "regressors=[('linear regressor',lm),('lasso',lasso_2),('ridge',ridge_2),('elasnet',elas_net_2)\n",
    "            ,('gradient',grad_regress_2)]\n",
    "vot=VR(estimators=regressors)\n",
    "vot.fit(X_train,y_train)\n"
   ]
  },
  {
   "cell_type": "code",
   "execution_count": 39,
   "metadata": {},
   "outputs": [
    {
     "name": "stderr",
     "output_type": "stream",
     "text": [
      "C:\\Users\\desai\\Anaconda3\\lib\\site-packages\\sklearn\\linear_model\\_coordinate_descent.py:476: ConvergenceWarning: Objective did not converge. You might want to increase the number of iterations. Duality gap: 4747615.298429645, tolerance: 1209.85785951\n",
      "  positive)\n"
     ]
    },
    {
     "data": {
      "text/plain": [
       "VotingRegressor(estimators=[('linear regressor',\n",
       "                             LinearRegression(copy_X=True, fit_intercept=True,\n",
       "                                              n_jobs=None, normalize=False)),\n",
       "                            ('lasso',\n",
       "                             Lasso(alpha=0.01, copy_X=True, fit_intercept=True,\n",
       "                                   max_iter=1000, normalize=False,\n",
       "                                   positive=False, precompute=False,\n",
       "                                   random_state=None, selection='cyclic',\n",
       "                                   tol=0.0001, warm_start=False)),\n",
       "                            ('ridge',\n",
       "                             Ridge(alpha=10, copy_X=True, fit...\n",
       "                             RandomForestRegressor(bootstrap=True,\n",
       "                                                   ccp_alpha=0.0,\n",
       "                                                   criterion='mse',\n",
       "                                                   max_depth=None,\n",
       "                                                   max_features='auto',\n",
       "                                                   max_leaf_nodes=None,\n",
       "                                                   max_samples=None,\n",
       "                                                   min_impurity_decrease=0.0,\n",
       "                                                   min_impurity_split=None,\n",
       "                                                   min_samples_leaf=1,\n",
       "                                                   min_samples_split=2,\n",
       "                                                   min_weight_fraction_leaf=0.0,\n",
       "                                                   n_estimators=100,\n",
       "                                                   n_jobs=None, oob_score=False,\n",
       "                                                   random_state=None, verbose=0,\n",
       "                                                   warm_start=False))],\n",
       "                n_jobs=None, weights=None)"
      ]
     },
     "execution_count": 39,
     "metadata": {},
     "output_type": "execute_result"
    }
   ],
   "source": [
    "from sklearn.ensemble import VotingRegressor as VR\n",
    "lm=LinearRegression()\n",
    "lasso_2=Lasso(alpha=0.01)\n",
    "ridge_2=Ridge(alpha=10)\n",
    "elas_net_2=EN(alpha=0.01,l1_ratio=0.8)\n",
    "grad_regress_2=GradientBoostingRegressor('ls')\n",
    "rand_regress_2=RandomForestRegressor(n_estimators=100)\n",
    "regressors_2=[('linear regressor',lm),('lasso',lasso_2),('ridge',ridge_2),('elasnet',elas_net_2)\n",
    "            ,('gradient',grad_regress_2),('randforests',rand_regress_2)]\n",
    "vot_2=VR(estimators=regressors_2)\n",
    "vot_2.fit(X_train,y_train)"
   ]
  },
  {
   "cell_type": "code",
   "execution_count": 40,
   "metadata": {},
   "outputs": [
    {
     "data": {
      "text/plain": [
       "0.3664222156825563"
      ]
     },
     "execution_count": 40,
     "metadata": {},
     "output_type": "execute_result"
    }
   ],
   "source": [
    "vot_2.score(X_train,y_train)"
   ]
  },
  {
   "cell_type": "code",
   "execution_count": 39,
   "metadata": {},
   "outputs": [
    {
     "data": {
      "text/plain": [
       "0.20906748356509908"
      ]
     },
     "execution_count": 39,
     "metadata": {},
     "output_type": "execute_result"
    }
   ],
   "source": [
    "vot.score(X_train,y_train)"
   ]
  },
  {
   "cell_type": "code",
   "execution_count": 58,
   "metadata": {},
   "outputs": [],
   "source": [
    "y_pred_vot_2=vot_2.predict(X_test)"
   ]
  },
  {
   "cell_type": "code",
   "execution_count": 40,
   "metadata": {},
   "outputs": [],
   "source": [
    "y_pred_vot=vot.predict(X_test)"
   ]
  },
  {
   "cell_type": "code",
   "execution_count": 56,
   "metadata": {},
   "outputs": [
    {
     "name": "stderr",
     "output_type": "stream",
     "text": [
      "C:\\Users\\desai\\Anaconda3\\lib\\site-packages\\sklearn\\linear_model\\_coordinate_descent.py:476: ConvergenceWarning: Objective did not converge. You might want to increase the number of iterations. Duality gap: 4747615.298429645, tolerance: 1209.85785951\n",
      "  positive)\n"
     ]
    },
    {
     "data": {
      "text/plain": [
       "VotingRegressor(estimators=[('linear regressor',\n",
       "                             LinearRegression(copy_X=True, fit_intercept=True,\n",
       "                                              n_jobs=None, normalize=False)),\n",
       "                            ('lasso',\n",
       "                             Lasso(alpha=0.01, copy_X=True, fit_intercept=True,\n",
       "                                   max_iter=1000, normalize=False,\n",
       "                                   positive=False, precompute=False,\n",
       "                                   random_state=None, selection='cyclic',\n",
       "                                   tol=0.0001, warm_start=False)),\n",
       "                            ('ridge',\n",
       "                             Ridge(alpha=10, copy_X=True, fit...\n",
       "                             RandomForestRegressor(bootstrap=True,\n",
       "                                                   ccp_alpha=0.0,\n",
       "                                                   criterion='mse',\n",
       "                                                   max_depth=None,\n",
       "                                                   max_features='auto',\n",
       "                                                   max_leaf_nodes=None,\n",
       "                                                   max_samples=None,\n",
       "                                                   min_impurity_decrease=0.0,\n",
       "                                                   min_impurity_split=None,\n",
       "                                                   min_samples_leaf=1,\n",
       "                                                   min_samples_split=2,\n",
       "                                                   min_weight_fraction_leaf=0.0,\n",
       "                                                   n_estimators=100,\n",
       "                                                   n_jobs=None, oob_score=False,\n",
       "                                                   random_state=None, verbose=0,\n",
       "                                                   warm_start=False))],\n",
       "                n_jobs=None, weights=None)"
      ]
     },
     "execution_count": 56,
     "metadata": {},
     "output_type": "execute_result"
    }
   ],
   "source": [
    "from sklearn.ensemble import VotingRegressor as VR\n",
    "lm=LinearRegression()\n",
    "lasso_2=Lasso(alpha=0.01)\n",
    "ridge_2=Ridge(alpha=10)\n",
    "elas_net_2=EN(alpha=0.01,l1_ratio=0.8)\n",
    "grad_regress_2=GradientBoostingRegressor('ls')\n",
    "hist_2=HS(learning_rate=0.1,loss='least_squares')\n",
    "rand_regress_2=RandomForestRegressor(n_estimators=100)\n",
    "regressors_2=[('linear regressor',lm),('lasso',lasso_2),('ridge',ridge_2),('elasnet',elas_net_2),\n",
    "    ('hist_grad',hist_2),('gradient',grad_regress_2),('randforests',rand_regress_2)]\n",
    "vot_3=VR(estimators=regressors_2)\n",
    "vot_3.fit(X_train,y_train)"
   ]
  },
  {
   "cell_type": "code",
   "execution_count": 57,
   "metadata": {},
   "outputs": [
    {
     "data": {
      "text/plain": [
       "0.39079303306729174"
      ]
     },
     "execution_count": 57,
     "metadata": {},
     "output_type": "execute_result"
    }
   ],
   "source": [
    "vot_3.score(X_train,y_train)"
   ]
  },
  {
   "cell_type": "code",
   "execution_count": 58,
   "metadata": {},
   "outputs": [],
   "source": [
    "y_pred_vot_3=vot_3.predict(X_test)"
   ]
  },
  {
   "cell_type": "code",
   "execution_count": 41,
   "metadata": {},
   "outputs": [],
   "source": [
    "from sklearn.ensemble import ExtraTreesRegressor"
   ]
  },
  {
   "cell_type": "code",
   "execution_count": 62,
   "metadata": {},
   "outputs": [
    {
     "name": "stderr",
     "output_type": "stream",
     "text": [
      "C:\\Users\\desai\\Anaconda3\\lib\\site-packages\\sklearn\\linear_model\\_coordinate_descent.py:476: ConvergenceWarning: Objective did not converge. You might want to increase the number of iterations. Duality gap: 4747615.298429645, tolerance: 1209.85785951\n",
      "  positive)\n"
     ]
    },
    {
     "data": {
      "text/plain": [
       "VotingRegressor(estimators=[('linear regressor',\n",
       "                             LinearRegression(copy_X=True, fit_intercept=True,\n",
       "                                              n_jobs=None, normalize=False)),\n",
       "                            ('lasso',\n",
       "                             Lasso(alpha=0.01, copy_X=True, fit_intercept=True,\n",
       "                                   max_iter=1000, normalize=False,\n",
       "                                   positive=False, precompute=False,\n",
       "                                   random_state=None, selection='cyclic',\n",
       "                                   tol=0.0001, warm_start=False)),\n",
       "                            ('ridge',\n",
       "                             Ridge(alpha=10, copy_X=True, fit...\n",
       "                             RandomForestRegressor(bootstrap=True,\n",
       "                                                   ccp_alpha=0.0,\n",
       "                                                   criterion='mse',\n",
       "                                                   max_depth=None,\n",
       "                                                   max_features='auto',\n",
       "                                                   max_leaf_nodes=None,\n",
       "                                                   max_samples=None,\n",
       "                                                   min_impurity_decrease=0.0,\n",
       "                                                   min_impurity_split=None,\n",
       "                                                   min_samples_leaf=1,\n",
       "                                                   min_samples_split=2,\n",
       "                                                   min_weight_fraction_leaf=0.0,\n",
       "                                                   n_estimators=100,\n",
       "                                                   n_jobs=None, oob_score=False,\n",
       "                                                   random_state=None, verbose=0,\n",
       "                                                   warm_start=False))],\n",
       "                n_jobs=None, weights=None)"
      ]
     },
     "execution_count": 62,
     "metadata": {},
     "output_type": "execute_result"
    }
   ],
   "source": [
    "ER=ExtraTreesRegressor(n_estimators=100)\n",
    "from sklearn.ensemble import VotingRegressor as VR\n",
    "lm=LinearRegression()\n",
    "lasso_2=Lasso(alpha=0.01)\n",
    "ridge_2=Ridge(alpha=10)\n",
    "elas_net_2=EN(alpha=0.01,l1_ratio=0.8)\n",
    "grad_regress_2=GradientBoostingRegressor('ls')\n",
    "hist_2=HS(learning_rate=0.1,loss='least_squares')\n",
    "rand_regress_2=RandomForestRegressor(n_estimators=100)\n",
    "regressors_2=[('linear regressor',lm),('lasso',lasso_2),('ridge',ridge_2),('elasnet',elas_net_2),('Extratree',ER),\n",
    "    ('hist_grad',hist_2),('gradient',grad_regress_2),('randforests',rand_regress_2)]\n",
    "vot_4=VR(estimators=regressors_2)\n",
    "vot_4.fit(X_train,y_train)"
   ]
  },
  {
   "cell_type": "code",
   "execution_count": 63,
   "metadata": {},
   "outputs": [
    {
     "data": {
      "text/plain": [
       "0.5329567252653524"
      ]
     },
     "execution_count": 63,
     "metadata": {},
     "output_type": "execute_result"
    }
   ],
   "source": [
    "vot_4.score(X_train,y_train)"
   ]
  },
  {
   "cell_type": "code",
   "execution_count": 64,
   "metadata": {},
   "outputs": [],
   "source": [
    "y_pred_vot_4=vot_4.predict(X_test)"
   ]
  },
  {
   "cell_type": "code",
   "execution_count": null,
   "metadata": {},
   "outputs": [],
   "source": [
    "kaggle_model = Ridge(alpha=10,max_iter=10000)\n",
    "kaggle_model.fit(X_train,y_train)\n",
    "# Preprocessing of validation data, get predictions\n",
    "test_data_labels = kaggle_model.predict(X_test)\n"
   ]
  },
  {
   "cell_type": "code",
   "execution_count": null,
   "metadata": {},
   "outputs": [],
   "source": [
    "import xgboost as xgb\n",
    "xgdmat=xgb.DMatrix(X_train,y_train)\n",
    "params={'eta':0.4,'seed':0,'subsample':0.9,'colsample_bytree':0.8,'objective':'reg:linear','max_depth':5,'reg_alpha':1}\n",
    "xgb_regressor=xgb.train(params,xgdmat)\n",
    "testdmat=xgb.DMatrix(X_test)\n",
    "y_pred_xgb=xgb_regressor.predict(testdmat)\n",
    "\n",
    "\n"
   ]
  },
  {
   "cell_type": "code",
   "execution_count": null,
   "metadata": {},
   "outputs": [],
   "source": [
    "traindmat=xgb.DMatrix(X_train)"
   ]
  },
  {
   "cell_type": "code",
   "execution_count": null,
   "metadata": {},
   "outputs": [],
   "source": [
    "from sklearn.metrics import r2_score"
   ]
  },
  {
   "cell_type": "code",
   "execution_count": null,
   "metadata": {},
   "outputs": [],
   "source": [
    "y_pred_xgb_train=xgb_regressor.predict(traindmat)"
   ]
  },
  {
   "cell_type": "code",
   "execution_count": null,
   "metadata": {},
   "outputs": [],
   "source": [
    "r2_score(y_train,y_pred_xgb_train)"
   ]
  },
  {
   "cell_type": "code",
   "execution_count": 35,
   "metadata": {},
   "outputs": [],
   "source": [
    "from sklearn.ensemble import AdaBoostRegressor"
   ]
  },
  {
   "cell_type": "code",
   "execution_count": 76,
   "metadata": {},
   "outputs": [
    {
     "name": "stderr",
     "output_type": "stream",
     "text": [
      "C:\\Users\\desai\\Anaconda3\\lib\\site-packages\\sklearn\\linear_model\\_ridge.py:148: LinAlgWarning: Ill-conditioned matrix (rcond=1.09302e-16): result may not be accurate.\n",
      "  overwrite_a=True).T\n",
      "C:\\Users\\desai\\Anaconda3\\lib\\site-packages\\sklearn\\linear_model\\_ridge.py:148: LinAlgWarning: Ill-conditioned matrix (rcond=1.09073e-16): result may not be accurate.\n",
      "  overwrite_a=True).T\n",
      "C:\\Users\\desai\\Anaconda3\\lib\\site-packages\\sklearn\\linear_model\\_ridge.py:148: LinAlgWarning: Ill-conditioned matrix (rcond=1.02397e-16): result may not be accurate.\n",
      "  overwrite_a=True).T\n",
      "C:\\Users\\desai\\Anaconda3\\lib\\site-packages\\sklearn\\linear_model\\_ridge.py:148: LinAlgWarning: Ill-conditioned matrix (rcond=8.47579e-17): result may not be accurate.\n",
      "  overwrite_a=True).T\n",
      "C:\\Users\\desai\\Anaconda3\\lib\\site-packages\\sklearn\\linear_model\\_ridge.py:148: LinAlgWarning: Ill-conditioned matrix (rcond=9.05974e-17): result may not be accurate.\n",
      "  overwrite_a=True).T\n",
      "C:\\Users\\desai\\Anaconda3\\lib\\site-packages\\sklearn\\linear_model\\_ridge.py:148: LinAlgWarning: Ill-conditioned matrix (rcond=8.51393e-17): result may not be accurate.\n",
      "  overwrite_a=True).T\n",
      "C:\\Users\\desai\\Anaconda3\\lib\\site-packages\\sklearn\\linear_model\\_ridge.py:148: LinAlgWarning: Ill-conditioned matrix (rcond=8.30337e-17): result may not be accurate.\n",
      "  overwrite_a=True).T\n",
      "C:\\Users\\desai\\Anaconda3\\lib\\site-packages\\sklearn\\linear_model\\_ridge.py:148: LinAlgWarning: Ill-conditioned matrix (rcond=9.92075e-17): result may not be accurate.\n",
      "  overwrite_a=True).T\n"
     ]
    },
    {
     "data": {
      "text/plain": [
       "GridSearchCV(cv=5, error_score=nan,\n",
       "             estimator=AdaBoostRegressor(base_estimator=Ridge(alpha=10,\n",
       "                                                              copy_X=True,\n",
       "                                                              fit_intercept=True,\n",
       "                                                              max_iter=None,\n",
       "                                                              normalize=False,\n",
       "                                                              random_state=None,\n",
       "                                                              solver='auto',\n",
       "                                                              tol=0.001),\n",
       "                                         learning_rate=1.0, loss='linear',\n",
       "                                         n_estimators=100, random_state=None),\n",
       "             iid='deprecated', n_jobs=None,\n",
       "             param_grid={'learning_rate': [0.001, 0.01, 1, 10],\n",
       "                         'loss': ['linear', 'square', 'exponential']},\n",
       "             pre_dispatch='2*n_jobs', refit=True, return_train_score=False,\n",
       "             scoring=None, verbose=0)"
      ]
     },
     "execution_count": 76,
     "metadata": {},
     "output_type": "execute_result"
    }
   ],
   "source": [
    "Adaregressor= AdaBoostRegressor(base_estimator=ridge_2,n_estimators=100)\n",
    "param_grid={'learning_rate':[0.001,0.01,1,10],'loss':['linear', 'square', 'exponential'] }\n",
    "Ad_grid=GridSearchCV(Adaregressor,param_grid,cv=5)\n",
    "Ad_grid.fit(X_train,y_train)"
   ]
  },
  {
   "cell_type": "code",
   "execution_count": 77,
   "metadata": {},
   "outputs": [
    {
     "data": {
      "text/plain": [
       "{'learning_rate': 0.001, 'loss': 'linear'}"
      ]
     },
     "execution_count": 77,
     "metadata": {},
     "output_type": "execute_result"
    }
   ],
   "source": [
    "Ad_grid.best_params_"
   ]
  },
  {
   "cell_type": "code",
   "execution_count": 79,
   "metadata": {},
   "outputs": [
    {
     "data": {
      "text/plain": [
       "0.15395735882350103"
      ]
     },
     "execution_count": 79,
     "metadata": {},
     "output_type": "execute_result"
    }
   ],
   "source": [
    "Ad_grid.best_score_"
   ]
  },
  {
   "cell_type": "code",
   "execution_count": null,
   "metadata": {},
   "outputs": [],
   "source": [
    "y_pred_Adgrid=Ad_grid.predict(X_test)"
   ]
  },
  {
   "cell_type": "code",
   "execution_count": 80,
   "metadata": {},
   "outputs": [
    {
     "data": {
      "text/plain": [
       "AdaBoostRegressor(base_estimator=Ridge(alpha=10, copy_X=True,\n",
       "                                       fit_intercept=True, max_iter=None,\n",
       "                                       normalize=False, random_state=None,\n",
       "                                       solver='auto', tol=0.001),\n",
       "                  learning_rate=0.001, loss='linear', n_estimators=155,\n",
       "                  random_state=None)"
      ]
     },
     "execution_count": 80,
     "metadata": {},
     "output_type": "execute_result"
    }
   ],
   "source": [
    "Adaregressor2= AdaBoostRegressor(base_estimator=ridge_2,learning_rate=.001, loss='linear',n_estimators=155)\n",
    "Adaregressor2.fit(X_train,y_train)\n"
   ]
  },
  {
   "cell_type": "code",
   "execution_count": 81,
   "metadata": {},
   "outputs": [
    {
     "data": {
      "text/plain": [
       "0.17883173282384282"
      ]
     },
     "execution_count": 81,
     "metadata": {},
     "output_type": "execute_result"
    }
   ],
   "source": [
    "Adaregressor2.score(X_train,y_train)"
   ]
  },
  {
   "cell_type": "code",
   "execution_count": 68,
   "metadata": {},
   "outputs": [],
   "source": [
    "y_pred_ada=Adaregressor2.predict(X_test)"
   ]
  },
  {
   "cell_type": "code",
   "execution_count": 43,
   "metadata": {},
   "outputs": [],
   "source": [
    " from sklearn.ensemble import GradientBoostingRegressor"
   ]
  },
  {
   "cell_type": "code",
   "execution_count": 44,
   "metadata": {},
   "outputs": [],
   "source": [
    "grad_regress=GradientBoostingRegressor()\n",
    "param_grid={'loss':['ls', 'lad', 'huber', 'quantile']}\n",
    "gradient_cv=GridSearchCV(grad_regress,param_grid,cv=5)"
   ]
  },
  {
   "cell_type": "code",
   "execution_count": null,
   "metadata": {},
   "outputs": [],
   "source": [
    "gradient_cv.fit(X_train,y_train)"
   ]
  },
  {
   "cell_type": "code",
   "execution_count": null,
   "metadata": {},
   "outputs": [],
   "source": [
    "gradient_cv.score(X_train,y_train)"
   ]
  },
  {
   "cell_type": "code",
   "execution_count": null,
   "metadata": {},
   "outputs": [],
   "source": [
    "gradient_cv.best_params_"
   ]
  },
  {
   "cell_type": "code",
   "execution_count": null,
   "metadata": {},
   "outputs": [],
   "source": [
    "y_test_gradient=gradient_cv.predict(X_test)"
   ]
  },
  {
   "cell_type": "code",
   "execution_count": null,
   "metadata": {},
   "outputs": [],
   "source": [
    "y_test_gradient"
   ]
  },
  {
   "cell_type": "code",
   "execution_count": 69,
   "metadata": {},
   "outputs": [],
   "source": [
    "pd.DataFrame({'Id': test.Id, 'fwd': y_pred_ada}).to_csv('zeeshansubmission6.csv', index =False)  \n"
   ]
  },
  {
   "cell_type": "code",
   "execution_count": 92,
   "metadata": {},
   "outputs": [],
   "source": [
    "pd.DataFrame({'Id': test.Id, 'fwd': y_test_gradient}).to_csv('zeeshansubmission7.csv', index =False)"
   ]
  },
  {
   "cell_type": "code",
   "execution_count": null,
   "metadata": {},
   "outputs": [],
   "source": [
    "pd.DataFrame({'Id': test.Id, 'fwd': y_test_kaggle}).to_csv('zeeshansubmission5.csv', index =False)  \n"
   ]
  },
  {
   "cell_type": "code",
   "execution_count": 42,
   "metadata": {},
   "outputs": [],
   "source": [
    "pd.DataFrame({'Id': test.Id, 'fwd': y_pred_vot}).to_csv('zeeshansubmission9.csv', index =False) "
   ]
  },
  {
   "cell_type": "code",
   "execution_count": 53,
   "metadata": {},
   "outputs": [],
   "source": [
    "pd.DataFrame({'Id': test.Id, 'fwd': y_rand_pred}).to_csv('zeeshansubmission10.csv', index =False)"
   ]
  },
  {
   "cell_type": "code",
   "execution_count": 60,
   "metadata": {},
   "outputs": [],
   "source": [
    "pd.DataFrame({'Id': test.Id, 'fwd': y_pred_vot_2}).to_csv('zeeshansubmission11.csv', index =False)"
   ]
  },
  {
   "cell_type": "code",
   "execution_count": 59,
   "metadata": {},
   "outputs": [],
   "source": [
    "pd.DataFrame({'Id': test.Id, 'fwd': y_pred_vot_3}).to_csv('zeeshansubmission12.csv', index =False) "
   ]
  },
  {
   "cell_type": "code",
   "execution_count": 65,
   "metadata": {},
   "outputs": [],
   "source": [
    "pd.DataFrame({'Id': test.Id, 'fwd': y_pred_vot_4}).to_csv('zeeshansubmission13.csv', index =False) ##final submission"
   ]
  },
  {
   "cell_type": "code",
   "execution_count": 42,
   "metadata": {},
   "outputs": [],
   "source": [
    " from sklearn.ensemble import BaggingRegressor"
   ]
  },
  {
   "cell_type": "code",
   "execution_count": 44,
   "metadata": {},
   "outputs": [
    {
     "data": {
      "text/plain": [
       "GridSearchCV(cv=5, error_score=nan,\n",
       "             estimator=BaggingRegressor(base_estimator=Ridge(alpha=10,\n",
       "                                                             copy_X=True,\n",
       "                                                             fit_intercept=True,\n",
       "                                                             max_iter=None,\n",
       "                                                             normalize=False,\n",
       "                                                             random_state=None,\n",
       "                                                             solver='auto',\n",
       "                                                             tol=0.001),\n",
       "                                        bootstrap=True,\n",
       "                                        bootstrap_features=False,\n",
       "                                        max_features=1.0, max_samples=1.0,\n",
       "                                        n_estimators=10, n_jobs=None,\n",
       "                                        oob_score=False, random_state=None,\n",
       "                                        verbose=0, warm_start=False),\n",
       "             iid='deprecated', n_jobs=None,\n",
       "             param_grid={'n_estimators': [10, 20, 30, 40, 50, 60, 70, 80, 90,\n",
       "                                          100]},\n",
       "             pre_dispatch='2*n_jobs', refit=True, return_train_score=False,\n",
       "             scoring=None, verbose=0)"
      ]
     },
     "execution_count": 44,
     "metadata": {},
     "output_type": "execute_result"
    }
   ],
   "source": [
    "bag_regress=BaggingRegressor(ridge_2)\n",
    "params={'n_estimators':[x for x in range(10,101,10)]}\n",
    "bag_cv=GridSearchCV(bag_regress,params,cv=5)\n",
    "bag_cv.fit(X_train,y_train)"
   ]
  },
  {
   "cell_type": "code",
   "execution_count": 45,
   "metadata": {},
   "outputs": [
    {
     "data": {
      "text/plain": [
       "0.17856832404628487"
      ]
     },
     "execution_count": 45,
     "metadata": {},
     "output_type": "execute_result"
    }
   ],
   "source": [
    "bag_cv.score(X_train,y_train)"
   ]
  },
  {
   "cell_type": "code",
   "execution_count": 30,
   "metadata": {},
   "outputs": [
    {
     "data": {
      "text/plain": [
       "{'n_estimators': 50}"
      ]
     },
     "execution_count": 30,
     "metadata": {},
     "output_type": "execute_result"
    }
   ],
   "source": [
    "bag_cv.best_params_"
   ]
  },
  {
   "cell_type": "code",
   "execution_count": 31,
   "metadata": {},
   "outputs": [],
   "source": [
    "bag_regress_2=BaggingRegressor(ridge_2,50)"
   ]
  },
  {
   "cell_type": "code",
   "execution_count": 32,
   "metadata": {},
   "outputs": [
    {
     "data": {
      "text/plain": [
       "BaggingRegressor(base_estimator=Ridge(alpha=10, copy_X=True, fit_intercept=True,\n",
       "                                      max_iter=None, normalize=False,\n",
       "                                      random_state=None, solver='auto',\n",
       "                                      tol=0.001),\n",
       "                 bootstrap=True, bootstrap_features=False, max_features=1.0,\n",
       "                 max_samples=1.0, n_estimators=10, n_jobs=None, oob_score=False,\n",
       "                 random_state=None, verbose=0, warm_start=False)"
      ]
     },
     "execution_count": 32,
     "metadata": {},
     "output_type": "execute_result"
    }
   ],
   "source": [
    "bag_regress.fit(X_train,y_train)"
   ]
  },
  {
   "cell_type": "code",
   "execution_count": 33,
   "metadata": {},
   "outputs": [
    {
     "data": {
      "text/plain": [
       "0.17755609361846347"
      ]
     },
     "execution_count": 33,
     "metadata": {},
     "output_type": "execute_result"
    }
   ],
   "source": [
    "bag_regress.score(X_train,y_train)"
   ]
  },
  {
   "cell_type": "code",
   "execution_count": 34,
   "metadata": {},
   "outputs": [],
   "source": [
    "y_pred_bag=bag_cv.predict(X_test)"
   ]
  },
  {
   "cell_type": "code",
   "execution_count": null,
   "metadata": {},
   "outputs": [],
   "source": [
    " from sklearn.ensemble import RandomForestRegressor"
   ]
  },
  {
   "cell_type": "code",
   "execution_count": null,
   "metadata": {},
   "outputs": [],
   "source": [
    "rand_regress=RandomForestRegressor()\n",
    "params_rand={'n_estimators':[x for x in range(10,101,10)]}\n",
    "rand_cv=GridSearchCV(rand_regress,params_rand,cv=5)\n",
    "rand_cv.fit(X_train,y_train)"
   ]
  },
  {
   "cell_type": "code",
   "execution_count": null,
   "metadata": {},
   "outputs": [],
   "source": [
    "rand_cv.score(X_train,y_train)"
   ]
  },
  {
   "cell_type": "code",
   "execution_count": 50,
   "metadata": {},
   "outputs": [
    {
     "data": {
      "text/plain": [
       "{'n_estimators': 100}"
      ]
     },
     "execution_count": 50,
     "metadata": {},
     "output_type": "execute_result"
    }
   ],
   "source": [
    "rand_cv.best_params_"
   ]
  },
  {
   "cell_type": "code",
   "execution_count": null,
   "metadata": {},
   "outputs": [],
   "source": [
    "rand_cv.feature_importances_"
   ]
  },
  {
   "cell_type": "code",
   "execution_count": 51,
   "metadata": {},
   "outputs": [],
   "source": [
    "y_rand_pred=rand_cv.predict(X_test)"
   ]
  },
  {
   "cell_type": "code",
   "execution_count": 52,
   "metadata": {},
   "outputs": [
    {
     "data": {
      "text/plain": [
       "array([19.78, 14.68, 57.32, ..., 21.41, 18.96, 23.82])"
      ]
     },
     "execution_count": 52,
     "metadata": {},
     "output_type": "execute_result"
    }
   ],
   "source": [
    "y_rand_pred"
   ]
  },
  {
   "cell_type": "code",
   "execution_count": null,
   "metadata": {},
   "outputs": [],
   "source": [
    "from sklearn.experimental import enable_hist_gradient_boosting\n",
    "from sklearn.ensemble import HistGradientBoostingRegressor  as HS"
   ]
  },
  {
   "cell_type": "code",
   "execution_count": null,
   "metadata": {},
   "outputs": [],
   "source": [
    "hist=HS()\n",
    "param_grid={'loss':['least_squares','least_absolute_deviation'],'learning_rate':[0.001,0.01,0.1,1]}\n",
    "hist_grid=GridSearchCV(hist,param_grid,cv=5)"
   ]
  },
  {
   "cell_type": "code",
   "execution_count": null,
   "metadata": {},
   "outputs": [],
   "source": [
    "hist_grid.fit(X_train,y_train)"
   ]
  },
  {
   "cell_type": "code",
   "execution_count": null,
   "metadata": {},
   "outputs": [],
   "source": [
    "hist_grid.score(X_train,y_train)"
   ]
  },
  {
   "cell_type": "code",
   "execution_count": 35,
   "metadata": {},
   "outputs": [
    {
     "data": {
      "text/plain": [
       "{'learning_rate': 0.1, 'loss': 'least_squares'}"
      ]
     },
     "execution_count": 35,
     "metadata": {},
     "output_type": "execute_result"
    }
   ],
   "source": [
    "hist_grid.best_params_"
   ]
  },
  {
   "cell_type": "code",
   "execution_count": null,
   "metadata": {},
   "outputs": [],
   "source": []
  }
 ],
 "metadata": {
  "kernelspec": {
   "display_name": "Python 3",
   "language": "python",
   "name": "python3"
  },
  "language_info": {
   "codemirror_mode": {
    "name": "ipython",
    "version": 3
   },
   "file_extension": ".py",
   "mimetype": "text/x-python",
   "name": "python",
   "nbconvert_exporter": "python",
   "pygments_lexer": "ipython3",
   "version": "3.7.3"
  },
  "toc": {
   "base_numbering": 1,
   "nav_menu": {},
   "number_sections": true,
   "sideBar": true,
   "skip_h1_title": false,
   "title_cell": "Table of Contents",
   "title_sidebar": "Contents",
   "toc_cell": false,
   "toc_position": {},
   "toc_section_display": true,
   "toc_window_display": false
  },
  "varInspector": {
   "cols": {
    "lenName": 16,
    "lenType": 16,
    "lenVar": 40
   },
   "kernels_config": {
    "python": {
     "delete_cmd_postfix": "",
     "delete_cmd_prefix": "del ",
     "library": "var_list.py",
     "varRefreshCmd": "print(var_dic_list())"
    },
    "r": {
     "delete_cmd_postfix": ") ",
     "delete_cmd_prefix": "rm(",
     "library": "var_list.r",
     "varRefreshCmd": "cat(var_dic_list()) "
    }
   },
   "types_to_exclude": [
    "module",
    "function",
    "builtin_function_or_method",
    "instance",
    "_Feature"
   ],
   "window_display": false
  }
 },
 "nbformat": 4,
 "nbformat_minor": 2
}
